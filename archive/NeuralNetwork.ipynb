{
 "cells": [
  {
   "cell_type": "markdown",
   "metadata": {
    "application/vnd.databricks.v1+cell": {
     "cellMetadata": {},
     "inputWidgets": {},
     "nuid": "3b27b8e8-c72f-48db-a026-1366f3c86959",
     "showTitle": false,
     "title": ""
    }
   },
   "source": [
    "https://towardsdatascience.com/building-neural-network-using-pytorch-84f6e75f9a"
   ]
  },
  {
   "cell_type": "code",
   "execution_count": 0,
   "metadata": {
    "application/vnd.databricks.v1+cell": {
     "cellMetadata": {},
     "inputWidgets": {},
     "nuid": "0c1dab1a-5969-4042-bf23-9fce7838c901",
     "showTitle": false,
     "title": ""
    }
   },
   "outputs": [],
   "source": [
    "import torch\n",
    "x = torch.rand(5, 3)\n",
    "print(x)"
   ]
  },
  {
   "cell_type": "code",
   "execution_count": 0,
   "metadata": {
    "application/vnd.databricks.v1+cell": {
     "cellMetadata": {},
     "inputWidgets": {},
     "nuid": "5f84d987-ea8f-4f8a-a04c-0a929cb8241a",
     "showTitle": false,
     "title": ""
    }
   },
   "outputs": [],
   "source": [
    "from torch import nn\n",
    "class Network(nn.Module):\n",
    "    def __init__(self):\n",
    "        super().__init__()\n",
    "        \n",
    "        # Inputs to hidden layer linear transformation\n",
    "        self.hidden = nn.Linear(784, 256)\n",
    "        # Output layer, 10 units - one for each digit\n",
    "        self.output = nn.Linear(256, 10)\n",
    "        \n",
    "        # Define sigmoid activation and softmax output \n",
    "        self.sigmoid = nn.Sigmoid()\n",
    "        self.softmax = nn.Softmax(dim=1)\n",
    "        \n",
    "    def forward(self, x):\n",
    "        # Pass the input tensor through each of our operations\n",
    "        x = self.hidden(x)\n",
    "        x = self.sigmoid(x)\n",
    "        x = self.output(x)\n",
    "        x = self.softmax(x)\n",
    "        \n",
    "        return x"
   ]
  },
  {
   "cell_type": "code",
   "execution_count": 0,
   "metadata": {
    "application/vnd.databricks.v1+cell": {
     "cellMetadata": {},
     "inputWidgets": {},
     "nuid": "30ade851-856f-433c-804c-a74188af7cde",
     "showTitle": false,
     "title": ""
    }
   },
   "outputs": [],
   "source": [
    "# calling to (0,1) range\n",
    "max_val = train_df.max(axis= 0)\n",
    "min_val = train_df.min(axis= 0)\n",
    " \n",
    "range = max_val - min_val\n",
    "train_df = (train_df - min_val)/(range)\n",
    " \n",
    "val_df =  (val_df- min_val)/range"
   ]
  },
  {
   "cell_type": "code",
   "execution_count": 0,
   "metadata": {
    "application/vnd.databricks.v1+cell": {
     "cellMetadata": {},
     "inputWidgets": {},
     "nuid": "3341602f-8416-4e2a-99aa-420d34a5fc9d",
     "showTitle": false,
     "title": ""
    }
   },
   "outputs": [],
   "source": [
    "# now let's separate the targets and labels\n",
    "X_train = train_df.drop('quality',axis=1)\n",
    "X_val = val_df.drop('quality',axis=1)\n",
    "y_train = train_df['quality']\n",
    "y_val = val_df['quality']\n",
    " \n",
    "# We'll need to pass the shape\n",
    "# of features/inputs as an argument\n",
    "# in our model, so let's define a variable\n",
    "# to save it.\n",
    "input_shape = [X_train.shape[1]]\n",
    " \n",
    "input_shape"
   ]
  },
  {
   "cell_type": "code",
   "execution_count": 0,
   "metadata": {
    "application/vnd.databricks.v1+cell": {
     "cellMetadata": {},
     "inputWidgets": {},
     "nuid": "3b78ddaa-dc71-4f3d-a071-d9d6295de692",
     "showTitle": false,
     "title": ""
    }
   },
   "outputs": [],
   "source": [
    "model = tf.keras.Sequential([\n",
    "tf.keras.layers.Dense(units=1,input_shape=input_shape)])\n",
    " \n",
    "# after you create your model it's\n",
    "# always a good habit to print out it's summary\n",
    "model.summary()"
   ]
  },
  {
   "cell_type": "code",
   "execution_count": 0,
   "metadata": {
    "application/vnd.databricks.v1+cell": {
     "cellMetadata": {},
     "inputWidgets": {},
     "nuid": "2281a45f-8638-4be4-918c-16cfa89f93d6",
     "showTitle": false,
     "title": ""
    }
   },
   "outputs": [],
   "source": [
    "\n",
    "model = tf.keras.Sequential([\n",
    " \n",
    "    tf.keras.layers.Dense(units=64, activation='relu',\n",
    "                          input_shape=input_shape),\n",
    "    tf.keras.layers.Dense(units=64, activation='relu'),\n",
    "    tf.keras.layers.Dense(units=1)\n",
    "])\n",
    "model.summary()"
   ]
  },
  {
   "cell_type": "code",
   "execution_count": 0,
   "metadata": {
    "application/vnd.databricks.v1+cell": {
     "cellMetadata": {},
     "inputWidgets": {},
     "nuid": "a6100b78-d8d9-429f-8071-5cc00366e886",
     "showTitle": false,
     "title": ""
    }
   },
   "outputs": [],
   "source": [
    "# adam optimizer works pretty well for\n",
    "# all kinds of problems and is a good starting point\n",
    "model.compile(optimizer='adam', \n",
    "               \n",
    "              # MAE error is good for\n",
    "              # numerical predictions\n",
    "              loss='mae') "
   ]
  },
  {
   "cell_type": "code",
   "execution_count": 0,
   "metadata": {
    "application/vnd.databricks.v1+cell": {
     "cellMetadata": {},
     "inputWidgets": {},
     "nuid": "6fd9f021-58ee-4e6c-b17d-f6e6ce86df7c",
     "showTitle": false,
     "title": ""
    }
   },
   "outputs": [],
   "source": [
    "\n",
    "losses = model.fit(X_train, y_train,\n",
    " \n",
    "                   validation_data=(X_val, y_val),\n",
    "                    \n",
    "                   # it will use 'batch_size' number\n",
    "                   # of examples per example\n",
    "                   batch_size=256,\n",
    "                   epochs=15,  # total epoch\n",
    " \n",
    "                   )"
   ]
  },
  {
   "cell_type": "code",
   "execution_count": 0,
   "metadata": {
    "application/vnd.databricks.v1+cell": {
     "cellMetadata": {},
     "inputWidgets": {},
     "nuid": "2f8a11e5-65db-491a-b916-9df437148a54",
     "showTitle": false,
     "title": ""
    }
   },
   "outputs": [],
   "source": [
    "\n",
    "# this will pass the first 3 rows of features\n",
    "# of our data as input to make predictions\n",
    "model.predict(X_val.iloc[0:3, :])"
   ]
  },
  {
   "cell_type": "code",
   "execution_count": 0,
   "metadata": {
    "application/vnd.databricks.v1+cell": {
     "cellMetadata": {},
     "inputWidgets": {},
     "nuid": "71ca5ea0-991f-4fd0-9654-52f6ffd0a296",
     "showTitle": false,
     "title": ""
    }
   },
   "outputs": [],
   "source": [
    "\n",
    "y_val.iloc[0:3]"
   ]
  },
  {
   "cell_type": "code",
   "execution_count": 0,
   "metadata": {
    "application/vnd.databricks.v1+cell": {
     "cellMetadata": {},
     "inputWidgets": {},
     "nuid": "5a66662a-2fe7-46fb-a5ad-3a1734634f0b",
     "showTitle": false,
     "title": ""
    }
   },
   "outputs": [],
   "source": [
    "\n",
    "loss_df = pd.DataFrame(losses.history)\n",
    " \n",
    "# history stores the loss/val\n",
    "# loss in each epoch\n",
    " \n",
    "# loss_df is a dataframe which\n",
    "# contains the losses so we can\n",
    "# plot it to visualize our model training\n",
    "loss_df.loc[:,['loss','val_loss']].plot()"
   ]
  }
 ],
 "metadata": {
  "application/vnd.databricks.v1+notebook": {
   "dashboards": [],
   "language": "python",
   "notebookMetadata": {},
   "notebookName": "NeuralNetwork",
   "widgets": {}
  },
  "kernelspec": {
   "display_name": "Python 3",
   "language": "python",
   "name": "python3"
  },
  "language_info": {
   "codemirror_mode": {
    "name": "ipython",
    "version": 3
   },
   "file_extension": ".py",
   "mimetype": "text/x-python",
   "name": "python",
   "nbconvert_exporter": "python",
   "pygments_lexer": "ipython3",
   "version": "3.9.13"
  },
  "orig_nbformat": 4
 },
 "nbformat": 4,
 "nbformat_minor": 0
}
