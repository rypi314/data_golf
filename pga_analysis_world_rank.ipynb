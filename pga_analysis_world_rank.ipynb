{
 "cells": [
  {
   "cell_type": "code",
   "execution_count": 89,
   "metadata": {},
   "outputs": [
    {
     "name": "stdout",
     "output_type": "stream",
     "text": [
      "   Group Number            Tee Time  Start Tee  Group Location  Group Hole  \\\n",
      "0             1 2025-03-20 11:35:00          1  Round Complete          18   \n",
      "1             1 2025-03-20 11:35:00          1  Round Complete          18   \n",
      "\n",
      "                             Course Name Group Status    Player Name Country  \n",
      "0  Innisbrook Resort (Copperhead Course)     COMPLETE  Danny Willett     ENG  \n",
      "1  Innisbrook Resort (Copperhead Course)     COMPLETE      Rico Hoey     PHI  \n"
     ]
    }
   ],
   "source": [
    "%run load_pga_tee_time.py\n",
    "df_tee_time = df"
   ]
  },
  {
   "cell_type": "code",
   "execution_count": 90,
   "metadata": {},
   "outputs": [
    {
     "name": "stdout",
     "output_type": "stream",
     "text": [
      "     Group Number            Tee Time  Start Tee Group Location  Group Hole  \\\n",
      "306             1 2025-03-22 11:30:00          1    Coming soon           1   \n",
      "307             1 2025-03-22 11:30:00          1    Coming soon           1   \n",
      "308             2 2025-03-22 11:39:00          1    Coming soon           1   \n",
      "309             2 2025-03-22 11:39:00          1    Coming soon           1   \n",
      "310             3 2025-03-22 11:48:00          1    Coming soon           1   \n",
      "..            ...                 ...        ...            ...         ...   \n",
      "379            37 2025-03-22 17:40:00          1    Coming soon           1   \n",
      "380            38 2025-03-22 17:50:00          1    Coming soon           1   \n",
      "381            38 2025-03-22 17:50:00          1    Coming soon           1   \n",
      "382            39 2025-03-22 18:00:00          1    Coming soon           1   \n",
      "383            39 2025-03-22 18:00:00          1    Coming soon           1   \n",
      "\n",
      "                               Course Name Group Status       Player Name  \\\n",
      "306  Innisbrook Resort (Copperhead Course)  NOT_STARTED      Neal Shipley   \n",
      "307  Innisbrook Resort (Copperhead Course)  NOT_STARTED    Mason Andersen   \n",
      "308  Innisbrook Resort (Copperhead Course)  NOT_STARTED  Thorbjørn Olesen   \n",
      "309  Innisbrook Resort (Copperhead Course)  NOT_STARTED       Steven Fisk   \n",
      "310  Innisbrook Resort (Copperhead Course)  NOT_STARTED  Patrick Fishburn   \n",
      "..                                     ...          ...               ...   \n",
      "379  Innisbrook Resort (Copperhead Course)  NOT_STARTED        Kevin Velo   \n",
      "380  Innisbrook Resort (Copperhead Course)  NOT_STARTED     Ryo Hisatsune   \n",
      "381  Innisbrook Resort (Copperhead Course)  NOT_STARTED     Byeong Hun An   \n",
      "382  Innisbrook Resort (Copperhead Course)  NOT_STARTED   Jacob Bridgeman   \n",
      "383  Innisbrook Resort (Copperhead Course)  NOT_STARTED    Viktor Hovland   \n",
      "\n",
      "    Country  \n",
      "306     USA  \n",
      "307     USA  \n",
      "308     DEN  \n",
      "309     USA  \n",
      "310     USA  \n",
      "..      ...  \n",
      "379     USA  \n",
      "380     JPN  \n",
      "381     KOR  \n",
      "382     USA  \n",
      "383     NOR  \n",
      "\n",
      "[78 rows x 9 columns]\n"
     ]
    }
   ],
   "source": [
    "import pandas as pd\n",
    "\n",
    "# User input for the date\n",
    "# Need try catch if date is old tournament.\n",
    "date_input = '2025-03-22'\n",
    "\n",
    "# Convert user input to a pandas Timestamp\n",
    "date_input = pd.to_datetime(date_input)\n",
    "\n",
    "# Filter the DataFrame to include only rows with the specified date\n",
    "df_tee_time = df_tee_time[df_tee_time['Tee Time'].dt.date == date_input.date()]\n",
    "\n",
    "print(df_tee_time)\n"
   ]
  },
  {
   "cell_type": "code",
   "execution_count": null,
   "metadata": {},
   "outputs": [
    {
     "name": "stdout",
     "output_type": "stream",
     "text": [
      "  POS        PLAYER TOT THRU    R1    R2 R3 R4  total_stroke\n",
      "0   1  J. Bridgeman  -6    F  67.0  69.0  -  -           136\n",
      "1  T2    V. Hovland  -5   F*  70.0  67.0  -  -           137\n"
     ]
    },
    {
     "name": "stderr",
     "output_type": "stream",
     "text": [
      "C:\\Users\\rypi3\\source\\repos\\data_golf\\load_pga_tournament.py:40: FutureWarning: Setting an item of incompatible dtype is deprecated and will raise an error in a future version of pandas. Value '-' has dtype incompatible with float64, please explicitly cast to a compatible dtype first.\n",
      "  df.fillna('-', inplace=True)\n"
     ]
    }
   ],
   "source": [
    "%run load_pga_tournament.py\n",
    "df_tournament = df"
   ]
  },
  {
   "cell_type": "code",
   "execution_count": 92,
   "metadata": {},
   "outputs": [
    {
     "name": "stdout",
     "output_type": "stream",
     "text": [
      "    Player Name           Country Projected Rank Official Rank  \\\n",
      "0  Rory McIlroy  Northern Ireland              1             1   \n",
      "1   Sepp Straka           Austria              2             2   \n",
      "\n",
      "  Point Data Projected Point Data Official  \n",
      "0            1,586.286               1,586  \n",
      "1            1,328.637               1,283  \n"
     ]
    }
   ],
   "source": [
    "%run load_pga_fedexcup_rank.py\n",
    "df_rank = df"
   ]
  },
  {
   "cell_type": "code",
   "execution_count": 93,
   "metadata": {},
   "outputs": [
    {
     "name": "stdout",
     "output_type": "stream",
     "text": [
      "   Rank          Full Name First Name   Last Name           Birth Date  \\\n",
      "0     1  Scottie Scheffler    Scottie   Scheffler  1996-06-21T00:00:00   \n",
      "1     2       Rory McIlroy       Rory     McIlroy  1989-05-04T00:00:00   \n",
      "2     3  Xander Schauffele     Xander  Schauffele  1993-10-25T00:00:00   \n",
      "3     4    Collin Morikawa     Collin    Morikawa  1997-02-06T00:00:00   \n",
      "4     5       Ludvig Aberg     Ludvig       Aberg  1999-10-31T00:00:00   \n",
      "\n",
      "            Country  Points Lost  Points Won  Points Total  Points Average  \\\n",
      "0     United States  -132.112095   45.275738    568.363561         13.8625   \n",
      "1  Northern Ireland   -75.055427  177.833733    463.475490          9.8612   \n",
      "2     United States   -75.098362    3.399615    325.075838          8.1269   \n",
      "3     United States   -45.254761   89.884339    282.810507          6.5770   \n",
      "4            Sweden   -38.944304   82.331223    256.077251          6.0971   \n",
      "\n",
      "   Last Week Rank  End Last Year Rank  Week End Date  \n",
      "0               1                   1  16 March 2025  \n",
      "1               2                   3  16 March 2025  \n",
      "2               3                   2  16 March 2025  \n",
      "3               4                   4  16 March 2025  \n",
      "4               5                   5  16 March 2025  \n",
      "Player rankings have been saved to 'rankings_list.csv'.\n"
     ]
    }
   ],
   "source": [
    "%run load_world_rank.py\n",
    "df_world_rank = df"
   ]
  },
  {
   "cell_type": "code",
   "execution_count": 94,
   "metadata": {},
   "outputs": [],
   "source": [
    "def extract_name_with_initial(full_name):\n",
    "    name_parts = full_name.split()\n",
    "    first_initial = name_parts[0][0] + '.' if name_parts else ''\n",
    "    last_name = name_parts[-1] if len(name_parts) > 1 else ''\n",
    "    return f\"{first_initial} {last_name}\""
   ]
  },
  {
   "cell_type": "code",
   "execution_count": 95,
   "metadata": {},
   "outputs": [
    {
     "name": "stderr",
     "output_type": "stream",
     "text": [
      "C:\\Users\\rypi3\\AppData\\Local\\Temp\\ipykernel_16320\\2081487957.py:3: SettingWithCopyWarning: \n",
      "A value is trying to be set on a copy of a slice from a DataFrame.\n",
      "Try using .loc[row_indexer,col_indexer] = value instead\n",
      "\n",
      "See the caveats in the documentation: https://pandas.pydata.org/pandas-docs/stable/user_guide/indexing.html#returning-a-view-versus-a-copy\n",
      "  df_tee_time['Name_Key2'] = df_tee_time['Player Name'].apply(extract_name_with_initial)\n"
     ]
    }
   ],
   "source": [
    "# Apply the function to the Full Name column to create a new Last Name column\n",
    "df_tournament['Name_Key2'] = df_tournament['PLAYER'].apply(extract_name_with_initial)\n",
    "df_tee_time['Name_Key2'] = df_tee_time['Player Name'].apply(extract_name_with_initial)\n",
    "df_rank['Name_Key2'] = df_rank['Player Name'].apply(extract_name_with_initial)\n",
    "df_world_rank['Name_Key2'] = df_world_rank['Full Name'].apply(extract_name_with_initial)"
   ]
  },
  {
   "cell_type": "code",
   "execution_count": 96,
   "metadata": {},
   "outputs": [
    {
     "data": {
      "text/html": [
       "<div>\n",
       "<style scoped>\n",
       "    .dataframe tbody tr th:only-of-type {\n",
       "        vertical-align: middle;\n",
       "    }\n",
       "\n",
       "    .dataframe tbody tr th {\n",
       "        vertical-align: top;\n",
       "    }\n",
       "\n",
       "    .dataframe thead th {\n",
       "        text-align: right;\n",
       "    }\n",
       "</style>\n",
       "<table border=\"1\" class=\"dataframe\">\n",
       "  <thead>\n",
       "    <tr style=\"text-align: right;\">\n",
       "      <th></th>\n",
       "      <th>Group Number</th>\n",
       "      <th>Tee Time</th>\n",
       "      <th>Start Tee</th>\n",
       "      <th>Group Location</th>\n",
       "      <th>Group Hole</th>\n",
       "      <th>Course Name</th>\n",
       "      <th>Group Status</th>\n",
       "      <th>Player Name</th>\n",
       "      <th>Country</th>\n",
       "      <th>Name_Key2</th>\n",
       "    </tr>\n",
       "  </thead>\n",
       "  <tbody>\n",
       "    <tr>\n",
       "      <th>382</th>\n",
       "      <td>39</td>\n",
       "      <td>2025-03-22 18:00:00</td>\n",
       "      <td>1</td>\n",
       "      <td>Coming soon</td>\n",
       "      <td>1</td>\n",
       "      <td>Innisbrook Resort (Copperhead Course)</td>\n",
       "      <td>NOT_STARTED</td>\n",
       "      <td>Jacob Bridgeman</td>\n",
       "      <td>USA</td>\n",
       "      <td>J. Bridgeman</td>\n",
       "    </tr>\n",
       "    <tr>\n",
       "      <th>383</th>\n",
       "      <td>39</td>\n",
       "      <td>2025-03-22 18:00:00</td>\n",
       "      <td>1</td>\n",
       "      <td>Coming soon</td>\n",
       "      <td>1</td>\n",
       "      <td>Innisbrook Resort (Copperhead Course)</td>\n",
       "      <td>NOT_STARTED</td>\n",
       "      <td>Viktor Hovland</td>\n",
       "      <td>NOR</td>\n",
       "      <td>V. Hovland</td>\n",
       "    </tr>\n",
       "  </tbody>\n",
       "</table>\n",
       "</div>"
      ],
      "text/plain": [
       "     Group Number            Tee Time  Start Tee Group Location  Group Hole  \\\n",
       "382            39 2025-03-22 18:00:00          1    Coming soon           1   \n",
       "383            39 2025-03-22 18:00:00          1    Coming soon           1   \n",
       "\n",
       "                               Course Name Group Status      Player Name  \\\n",
       "382  Innisbrook Resort (Copperhead Course)  NOT_STARTED  Jacob Bridgeman   \n",
       "383  Innisbrook Resort (Copperhead Course)  NOT_STARTED   Viktor Hovland   \n",
       "\n",
       "    Country     Name_Key2  \n",
       "382     USA  J. Bridgeman  \n",
       "383     NOR    V. Hovland  "
      ]
     },
     "execution_count": 96,
     "metadata": {},
     "output_type": "execute_result"
    }
   ],
   "source": [
    "df_tee_time.tail(2)"
   ]
  },
  {
   "cell_type": "code",
   "execution_count": 97,
   "metadata": {},
   "outputs": [],
   "source": [
    "df_times_rank = pd.merge(df_tee_time, df_tournament, on='Name_Key2', how='left')\n",
    "df_times_rank = pd.merge(df_times_rank, df_rank, on='Name_Key2', how='left')\n",
    "df_times_rank = pd.merge(df_times_rank, df_world_rank, on='Name_Key2', how='left')"
   ]
  },
  {
   "cell_type": "code",
   "execution_count": 98,
   "metadata": {},
   "outputs": [
    {
     "name": "stdout",
     "output_type": "stream",
     "text": [
      "27\n"
     ]
    }
   ],
   "source": [
    "print(df_rank.shape[1] + df_tee_time.shape[1] + df_tournament.shape[1])"
   ]
  },
  {
   "cell_type": "code",
   "execution_count": 99,
   "metadata": {},
   "outputs": [
    {
     "data": {
      "text/plain": [
       "Index(['Group Number', 'Tee Time', 'Start Tee', 'Group Location', 'Group Hole',\n",
       "       'Course Name', 'Group Status', 'Player Name_x', 'Country_x',\n",
       "       'Name_Key2', 'POS', 'PLAYER', 'TOT', 'THRU', 'R1', 'R2', 'R3', 'R4',\n",
       "       'total_stroke', 'Player Name_y', 'Country_y', 'Projected Rank',\n",
       "       'Official Rank', 'Point Data Projected', 'Point Data Official', 'Rank',\n",
       "       'Full Name', 'First Name', 'Last Name', 'Birth Date', 'Country',\n",
       "       'Points Lost', 'Points Won', 'Points Total', 'Points Average',\n",
       "       'Last Week Rank', 'End Last Year Rank', 'Week End Date'],\n",
       "      dtype='object')"
      ]
     },
     "execution_count": 99,
     "metadata": {},
     "output_type": "execute_result"
    }
   ],
   "source": [
    "df_times_rank.columns"
   ]
  },
  {
   "cell_type": "code",
   "execution_count": 100,
   "metadata": {},
   "outputs": [],
   "source": [
    "df_times_rank = df_times_rank[['Group Number','Tee Time', 'Player Name_x','POS','Official Rank','Rank']]"
   ]
  },
  {
   "cell_type": "code",
   "execution_count": 101,
   "metadata": {},
   "outputs": [],
   "source": [
    "# Convert numeric columns to integer\n",
    "# Replace '-', remove 'T', handle NaN values, and safely convert to integers\n",
    "df_times_rank['Official Rank'] = (\n",
    "    df_times_rank['Official Rank']\n",
    "    .replace('-', 1000)               # Replace '-' with 1000\n",
    "    .astype(str)                      # Convert the column to string\n",
    "    .str.replace('T', '', regex=False)  # Remove 'T' (regex=False makes it explicit)\n",
    "    .replace('nan', 1000)             # Handle 'nan' represented as a string\n",
    "    .fillna(1000)                     # Handle actual NaN values\n",
    "    .astype(float)                    # Convert to float first\n",
    "    .astype(int)                      # Finally, convert to integer\n",
    ")\n",
    "\n"
   ]
  },
  {
   "cell_type": "code",
   "execution_count": 111,
   "metadata": {},
   "outputs": [],
   "source": [
    "# Convert numeric columns to integer\n",
    "# Replace '-', remove 'T', handle NaN values, and safely convert to integers\n",
    "df_times_rank['Rank'] = (\n",
    "    df_times_rank['Rank']\n",
    "    .replace('-', 1000)               # Replace '-' with 1000\n",
    "    .astype(str)                      # Convert the column to string\n",
    "    .str.replace('T', '', regex=False)  # Remove 'T' (regex=False makes it explicit)\n",
    "    .replace('nan', 1000)             # Handle 'nan' represented as a string\n",
    "    .fillna(1000)                     # Handle actual NaN values\n",
    "    .astype(float)                    # Convert to float first\n",
    "    .astype(int)                      # Finally, convert to integer\n",
    ")\n",
    "\n"
   ]
  },
  {
   "cell_type": "code",
   "execution_count": 112,
   "metadata": {},
   "outputs": [
    {
     "data": {
      "text/plain": [
       "Group Number              int64\n",
       "Tee Time         datetime64[ns]\n",
       "Player Name_x            object\n",
       "POS                      object\n",
       "Official Rank             int64\n",
       "Rank                      int64\n",
       "Difference              float64\n",
       "dtype: object"
      ]
     },
     "execution_count": 112,
     "metadata": {},
     "output_type": "execute_result"
    }
   ],
   "source": [
    "df_times_rank.dtypes"
   ]
  },
  {
   "cell_type": "code",
   "execution_count": 121,
   "metadata": {},
   "outputs": [],
   "source": [
    "# Group by the key and calculate the difference between rows\n",
    "df_times_rank['Difference'] = df_times_rank.groupby('Group Number')['Rank'].diff().fillna(0)"
   ]
  },
  {
   "cell_type": "code",
   "execution_count": 122,
   "metadata": {},
   "outputs": [
    {
     "name": "stdout",
     "output_type": "stream",
     "text": [
      "original row count: 78\n"
     ]
    }
   ],
   "source": [
    "print(f'original row count: {df_times_rank.shape[0]}')"
   ]
  },
  {
   "cell_type": "code",
   "execution_count": 123,
   "metadata": {},
   "outputs": [],
   "source": [
    "# Remove duplicates from upcoming tee times\n",
    "df_times_rank.drop_duplicates(inplace=True)"
   ]
  },
  {
   "cell_type": "code",
   "execution_count": 124,
   "metadata": {},
   "outputs": [
    {
     "name": "stdout",
     "output_type": "stream",
     "text": [
      "original row count: 78\n"
     ]
    }
   ],
   "source": [
    "print(f'original row count: {df_times_rank.shape[0]}')\n"
   ]
  },
  {
   "cell_type": "code",
   "execution_count": 125,
   "metadata": {},
   "outputs": [
    {
     "data": {
      "text/html": [
       "<div>\n",
       "<style scoped>\n",
       "    .dataframe tbody tr th:only-of-type {\n",
       "        vertical-align: middle;\n",
       "    }\n",
       "\n",
       "    .dataframe tbody tr th {\n",
       "        vertical-align: top;\n",
       "    }\n",
       "\n",
       "    .dataframe thead th {\n",
       "        text-align: right;\n",
       "    }\n",
       "</style>\n",
       "<table border=\"1\" class=\"dataframe\">\n",
       "  <thead>\n",
       "    <tr style=\"text-align: right;\">\n",
       "      <th></th>\n",
       "      <th>Group Number</th>\n",
       "      <th>Tee Time</th>\n",
       "      <th>Player Name_x</th>\n",
       "      <th>POS</th>\n",
       "      <th>Official Rank</th>\n",
       "      <th>Rank</th>\n",
       "      <th>Difference</th>\n",
       "    </tr>\n",
       "  </thead>\n",
       "  <tbody>\n",
       "    <tr>\n",
       "      <th>3</th>\n",
       "      <td>2</td>\n",
       "      <td>2025-03-22 11:39:00</td>\n",
       "      <td>Steven Fisk</td>\n",
       "      <td>T65</td>\n",
       "      <td>94</td>\n",
       "      <td>1000</td>\n",
       "      <td>914.0</td>\n",
       "    </tr>\n",
       "    <tr>\n",
       "      <th>7</th>\n",
       "      <td>4</td>\n",
       "      <td>2025-03-22 11:57:00</td>\n",
       "      <td>Matti Schmid</td>\n",
       "      <td>T65</td>\n",
       "      <td>91</td>\n",
       "      <td>1000</td>\n",
       "      <td>946.0</td>\n",
       "    </tr>\n",
       "    <tr>\n",
       "      <th>21</th>\n",
       "      <td>11</td>\n",
       "      <td>2025-03-22 13:05:00</td>\n",
       "      <td>Luke Clanton</td>\n",
       "      <td>T53</td>\n",
       "      <td>1000</td>\n",
       "      <td>1000</td>\n",
       "      <td>941.0</td>\n",
       "    </tr>\n",
       "    <tr>\n",
       "      <th>41</th>\n",
       "      <td>21</td>\n",
       "      <td>2025-03-22 14:50:00</td>\n",
       "      <td>Gary Woodland</td>\n",
       "      <td>T26</td>\n",
       "      <td>90</td>\n",
       "      <td>1000</td>\n",
       "      <td>952.0</td>\n",
       "    </tr>\n",
       "    <tr>\n",
       "      <th>43</th>\n",
       "      <td>22</td>\n",
       "      <td>2025-03-22 15:00:00</td>\n",
       "      <td>Kris Ventura</td>\n",
       "      <td>T26</td>\n",
       "      <td>75</td>\n",
       "      <td>1000</td>\n",
       "      <td>923.0</td>\n",
       "    </tr>\n",
       "  </tbody>\n",
       "</table>\n",
       "</div>"
      ],
      "text/plain": [
       "    Group Number            Tee Time  Player Name_x  POS  Official Rank  Rank  \\\n",
       "3              2 2025-03-22 11:39:00    Steven Fisk  T65             94  1000   \n",
       "7              4 2025-03-22 11:57:00   Matti Schmid  T65             91  1000   \n",
       "21            11 2025-03-22 13:05:00   Luke Clanton  T53           1000  1000   \n",
       "41            21 2025-03-22 14:50:00  Gary Woodland  T26             90  1000   \n",
       "43            22 2025-03-22 15:00:00   Kris Ventura  T26             75  1000   \n",
       "\n",
       "    Difference  \n",
       "3        914.0  \n",
       "7        946.0  \n",
       "21       941.0  \n",
       "41       952.0  \n",
       "43       923.0  "
      ]
     },
     "execution_count": 125,
     "metadata": {},
     "output_type": "execute_result"
    }
   ],
   "source": [
    "df_best_groups = df_times_rank[df_times_rank['Difference']>100]\n",
    "df_best_groups.head()"
   ]
  },
  {
   "cell_type": "code",
   "execution_count": 126,
   "metadata": {},
   "outputs": [
    {
     "data": {
      "text/html": [
       "<div>\n",
       "<style scoped>\n",
       "    .dataframe tbody tr th:only-of-type {\n",
       "        vertical-align: middle;\n",
       "    }\n",
       "\n",
       "    .dataframe tbody tr th {\n",
       "        vertical-align: top;\n",
       "    }\n",
       "\n",
       "    .dataframe thead th {\n",
       "        text-align: right;\n",
       "    }\n",
       "</style>\n",
       "<table border=\"1\" class=\"dataframe\">\n",
       "  <thead>\n",
       "    <tr style=\"text-align: right;\">\n",
       "      <th></th>\n",
       "      <th>Group Number</th>\n",
       "      <th>Tee Time</th>\n",
       "      <th>Player Name_x</th>\n",
       "      <th>POS</th>\n",
       "      <th>Official Rank</th>\n",
       "      <th>Rank</th>\n",
       "      <th>Difference</th>\n",
       "    </tr>\n",
       "  </thead>\n",
       "  <tbody>\n",
       "    <tr>\n",
       "      <th>2</th>\n",
       "      <td>2</td>\n",
       "      <td>2025-03-22 11:39:00</td>\n",
       "      <td>Thorbjørn Olesen</td>\n",
       "      <td>T65</td>\n",
       "      <td>192</td>\n",
       "      <td>86</td>\n",
       "      <td>0.0</td>\n",
       "    </tr>\n",
       "    <tr>\n",
       "      <th>3</th>\n",
       "      <td>2</td>\n",
       "      <td>2025-03-22 11:39:00</td>\n",
       "      <td>Steven Fisk</td>\n",
       "      <td>T65</td>\n",
       "      <td>94</td>\n",
       "      <td>1000</td>\n",
       "      <td>914.0</td>\n",
       "    </tr>\n",
       "    <tr>\n",
       "      <th>6</th>\n",
       "      <td>4</td>\n",
       "      <td>2025-03-22 11:57:00</td>\n",
       "      <td>Michael Kim</td>\n",
       "      <td>T65</td>\n",
       "      <td>10</td>\n",
       "      <td>54</td>\n",
       "      <td>0.0</td>\n",
       "    </tr>\n",
       "    <tr>\n",
       "      <th>7</th>\n",
       "      <td>4</td>\n",
       "      <td>2025-03-22 11:57:00</td>\n",
       "      <td>Matti Schmid</td>\n",
       "      <td>T65</td>\n",
       "      <td>91</td>\n",
       "      <td>1000</td>\n",
       "      <td>946.0</td>\n",
       "    </tr>\n",
       "    <tr>\n",
       "      <th>20</th>\n",
       "      <td>11</td>\n",
       "      <td>2025-03-22 13:05:00</td>\n",
       "      <td>Matt McCarty</td>\n",
       "      <td>T53</td>\n",
       "      <td>126</td>\n",
       "      <td>59</td>\n",
       "      <td>0.0</td>\n",
       "    </tr>\n",
       "    <tr>\n",
       "      <th>21</th>\n",
       "      <td>11</td>\n",
       "      <td>2025-03-22 13:05:00</td>\n",
       "      <td>Luke Clanton</td>\n",
       "      <td>T53</td>\n",
       "      <td>1000</td>\n",
       "      <td>1000</td>\n",
       "      <td>941.0</td>\n",
       "    </tr>\n",
       "    <tr>\n",
       "      <th>40</th>\n",
       "      <td>21</td>\n",
       "      <td>2025-03-22 14:50:00</td>\n",
       "      <td>Matthieu Pavon</td>\n",
       "      <td>T26</td>\n",
       "      <td>136</td>\n",
       "      <td>48</td>\n",
       "      <td>0.0</td>\n",
       "    </tr>\n",
       "    <tr>\n",
       "      <th>41</th>\n",
       "      <td>21</td>\n",
       "      <td>2025-03-22 14:50:00</td>\n",
       "      <td>Gary Woodland</td>\n",
       "      <td>T26</td>\n",
       "      <td>90</td>\n",
       "      <td>1000</td>\n",
       "      <td>952.0</td>\n",
       "    </tr>\n",
       "    <tr>\n",
       "      <th>42</th>\n",
       "      <td>22</td>\n",
       "      <td>2025-03-22 15:00:00</td>\n",
       "      <td>Rasmus Neergaard-Petersen</td>\n",
       "      <td>T26</td>\n",
       "      <td>1000</td>\n",
       "      <td>77</td>\n",
       "      <td>0.0</td>\n",
       "    </tr>\n",
       "    <tr>\n",
       "      <th>43</th>\n",
       "      <td>22</td>\n",
       "      <td>2025-03-22 15:00:00</td>\n",
       "      <td>Kris Ventura</td>\n",
       "      <td>T26</td>\n",
       "      <td>75</td>\n",
       "      <td>1000</td>\n",
       "      <td>923.0</td>\n",
       "    </tr>\n",
       "    <tr>\n",
       "      <th>46</th>\n",
       "      <td>24</td>\n",
       "      <td>2025-03-22 15:20:00</td>\n",
       "      <td>Andrew Novak</td>\n",
       "      <td>T26</td>\n",
       "      <td>36</td>\n",
       "      <td>80</td>\n",
       "      <td>0.0</td>\n",
       "    </tr>\n",
       "    <tr>\n",
       "      <th>47</th>\n",
       "      <td>24</td>\n",
       "      <td>2025-03-22 15:20:00</td>\n",
       "      <td>David Lipsky</td>\n",
       "      <td>T26</td>\n",
       "      <td>183</td>\n",
       "      <td>1000</td>\n",
       "      <td>920.0</td>\n",
       "    </tr>\n",
       "    <tr>\n",
       "      <th>60</th>\n",
       "      <td>31</td>\n",
       "      <td>2025-03-22 16:35:00</td>\n",
       "      <td>J.T. Poston</td>\n",
       "      <td>T14</td>\n",
       "      <td>66</td>\n",
       "      <td>42</td>\n",
       "      <td>0.0</td>\n",
       "    </tr>\n",
       "    <tr>\n",
       "      <th>61</th>\n",
       "      <td>31</td>\n",
       "      <td>2025-03-22 16:35:00</td>\n",
       "      <td>Mac Meissner</td>\n",
       "      <td>T14</td>\n",
       "      <td>134</td>\n",
       "      <td>1000</td>\n",
       "      <td>958.0</td>\n",
       "    </tr>\n",
       "    <tr>\n",
       "      <th>70</th>\n",
       "      <td>36</td>\n",
       "      <td>2025-03-22 17:30:00</td>\n",
       "      <td>Xander Schauffele</td>\n",
       "      <td>T5</td>\n",
       "      <td>140</td>\n",
       "      <td>3</td>\n",
       "      <td>0.0</td>\n",
       "    </tr>\n",
       "    <tr>\n",
       "      <th>71</th>\n",
       "      <td>36</td>\n",
       "      <td>2025-03-22 17:30:00</td>\n",
       "      <td>Jeremy Paul</td>\n",
       "      <td>T5</td>\n",
       "      <td>130</td>\n",
       "      <td>1000</td>\n",
       "      <td>997.0</td>\n",
       "    </tr>\n",
       "    <tr>\n",
       "      <th>72</th>\n",
       "      <td>37</td>\n",
       "      <td>2025-03-22 17:40:00</td>\n",
       "      <td>Shane Lowry</td>\n",
       "      <td>T5</td>\n",
       "      <td>12</td>\n",
       "      <td>15</td>\n",
       "      <td>0.0</td>\n",
       "    </tr>\n",
       "    <tr>\n",
       "      <th>73</th>\n",
       "      <td>37</td>\n",
       "      <td>2025-03-22 17:40:00</td>\n",
       "      <td>Kevin Velo</td>\n",
       "      <td>T5</td>\n",
       "      <td>189</td>\n",
       "      <td>1000</td>\n",
       "      <td>985.0</td>\n",
       "    </tr>\n",
       "  </tbody>\n",
       "</table>\n",
       "</div>"
      ],
      "text/plain": [
       "    Group Number            Tee Time              Player Name_x  POS  \\\n",
       "2              2 2025-03-22 11:39:00           Thorbjørn Olesen  T65   \n",
       "3              2 2025-03-22 11:39:00                Steven Fisk  T65   \n",
       "6              4 2025-03-22 11:57:00                Michael Kim  T65   \n",
       "7              4 2025-03-22 11:57:00               Matti Schmid  T65   \n",
       "20            11 2025-03-22 13:05:00               Matt McCarty  T53   \n",
       "21            11 2025-03-22 13:05:00               Luke Clanton  T53   \n",
       "40            21 2025-03-22 14:50:00             Matthieu Pavon  T26   \n",
       "41            21 2025-03-22 14:50:00              Gary Woodland  T26   \n",
       "42            22 2025-03-22 15:00:00  Rasmus Neergaard-Petersen  T26   \n",
       "43            22 2025-03-22 15:00:00               Kris Ventura  T26   \n",
       "46            24 2025-03-22 15:20:00               Andrew Novak  T26   \n",
       "47            24 2025-03-22 15:20:00               David Lipsky  T26   \n",
       "60            31 2025-03-22 16:35:00                J.T. Poston  T14   \n",
       "61            31 2025-03-22 16:35:00               Mac Meissner  T14   \n",
       "70            36 2025-03-22 17:30:00          Xander Schauffele   T5   \n",
       "71            36 2025-03-22 17:30:00                Jeremy Paul   T5   \n",
       "72            37 2025-03-22 17:40:00                Shane Lowry   T5   \n",
       "73            37 2025-03-22 17:40:00                 Kevin Velo   T5   \n",
       "\n",
       "    Official Rank  Rank  Difference  \n",
       "2             192    86         0.0  \n",
       "3              94  1000       914.0  \n",
       "6              10    54         0.0  \n",
       "7              91  1000       946.0  \n",
       "20            126    59         0.0  \n",
       "21           1000  1000       941.0  \n",
       "40            136    48         0.0  \n",
       "41             90  1000       952.0  \n",
       "42           1000    77         0.0  \n",
       "43             75  1000       923.0  \n",
       "46             36    80         0.0  \n",
       "47            183  1000       920.0  \n",
       "60             66    42         0.0  \n",
       "61            134  1000       958.0  \n",
       "70            140     3         0.0  \n",
       "71            130  1000       997.0  \n",
       "72             12    15         0.0  \n",
       "73            189  1000       985.0  "
      ]
     },
     "execution_count": 126,
     "metadata": {},
     "output_type": "execute_result"
    }
   ],
   "source": [
    "# Filter rows in df_other based on Group Numbers in df_best_groups\n",
    "df_bet = df_times_rank[df_times_rank['Group Number'].isin(df_best_groups['Group Number'])]\n",
    "\n",
    "df_bet.head(50)\n"
   ]
  },
  {
   "cell_type": "code",
   "execution_count": 127,
   "metadata": {},
   "outputs": [
    {
     "data": {
      "text/plain": [
       "2              Thorbjørn Olesen\n",
       "6                   Michael Kim\n",
       "20                 Matt McCarty\n",
       "40               Matthieu Pavon\n",
       "42    Rasmus Neergaard-Petersen\n",
       "46                 Andrew Novak\n",
       "60                  J.T. Poston\n",
       "70            Xander Schauffele\n",
       "72                  Shane Lowry\n",
       "Name: Player Name_x, dtype: object"
      ]
     },
     "execution_count": 127,
     "metadata": {},
     "output_type": "execute_result"
    }
   ],
   "source": [
    "df_bet['Player Name_x'][df_bet['Difference'] == 0]"
   ]
  },
  {
   "cell_type": "code",
   "execution_count": 128,
   "metadata": {},
   "outputs": [
    {
     "ename": "ModuleNotFoundError",
     "evalue": "No module named 'tabulate'",
     "output_type": "error",
     "traceback": [
      "\u001b[31m---------------------------------------------------------------------------\u001b[39m",
      "\u001b[31mModuleNotFoundError\u001b[39m                       Traceback (most recent call last)",
      "\u001b[36mCell\u001b[39m\u001b[36m \u001b[39m\u001b[32mIn[128]\u001b[39m\u001b[32m, line 1\u001b[39m\n\u001b[32m----> \u001b[39m\u001b[32m1\u001b[39m \u001b[38;5;28;01mimport\u001b[39;00m\u001b[38;5;250m \u001b[39m\u001b[34;01mtabulate\u001b[39;00m\n",
      "\u001b[31mModuleNotFoundError\u001b[39m: No module named 'tabulate'"
     ]
    }
   ],
   "source": [
    "import tabulate"
   ]
  }
 ],
 "metadata": {
  "kernelspec": {
   "display_name": ".venv",
   "language": "python",
   "name": "python3"
  },
  "language_info": {
   "codemirror_mode": {
    "name": "ipython",
    "version": 3
   },
   "file_extension": ".py",
   "mimetype": "text/x-python",
   "name": "python",
   "nbconvert_exporter": "python",
   "pygments_lexer": "ipython3",
   "version": "3.13.2"
  }
 },
 "nbformat": 4,
 "nbformat_minor": 2
}
