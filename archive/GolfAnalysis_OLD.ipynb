{
 "cells": [
  {
   "cell_type": "markdown",
   "metadata": {
    "application/vnd.databricks.v1+cell": {
     "cellMetadata": {},
     "inputWidgets": {},
     "nuid": "65ecfb5e-5ffb-48c9-adf9-013139cddb8c",
     "showTitle": false,
     "title": ""
    }
   },
   "source": [
    "## Golf Analysis \n",
    "\n",
    "Data is from the Hole19 app of my round history."
   ]
  },
  {
   "cell_type": "code",
   "execution_count": 0,
   "metadata": {
    "application/vnd.databricks.v1+cell": {
     "cellMetadata": {},
     "inputWidgets": {},
     "nuid": "d38b480a-e61b-4658-9b06-6fc00abf6370",
     "showTitle": false,
     "title": ""
    }
   },
   "outputs": [],
   "source": [
    "# Golf Analysis from Hole19 data.\n",
    "\n",
    "import pandas as pd\n",
    "import numpy as np\n",
    "\n",
    "df = pd.read_csv('./data/Hole19Download.csv', header=None)\n",
    "\n",
    "df = pd.DataFrame(df.values.reshape(-1, 8), \n",
    "                  columns=['ID','Course','GameType','OverPar','Score', 'Putts', 'GIR', 'FairwayHit'])\n",
    "\n",
    "df.head()"
   ]
  },
  {
   "cell_type": "markdown",
   "metadata": {
    "application/vnd.databricks.v1+cell": {
     "cellMetadata": {},
     "inputWidgets": {},
     "nuid": "c5ae43a4-7b27-4b8c-b3a2-b49ea6469b52",
     "showTitle": false,
     "title": ""
    }
   },
   "source": [
    "### Definitions\n",
    "\n",
    "Table grain is at the round level.\n",
    "\n",
    "|Column Name|Description|\n",
    "|---|---|\n",
    "|ID|test|\n",
    "|Course|Name of golf course|\n",
    "|GameType|Number of holes and type of game played|\n",
    "|OverPar|Number of strokes over par|\n",
    "|Score|Total score (Score - OverPar = Par for the Course)|\n",
    "|Putts|Total number of putts|\n",
    "|GIR|Greens hit in regulation|\n",
    "|FairwayHit|Total percentage of fairways|"
   ]
  },
  {
   "cell_type": "code",
   "execution_count": 0,
   "metadata": {
    "application/vnd.databricks.v1+cell": {
     "cellMetadata": {},
     "inputWidgets": {},
     "nuid": "f12c0533-9df8-42f4-8ed6-ae8c4f08a79e",
     "showTitle": false,
     "title": ""
    }
   },
   "outputs": [],
   "source": [
    "# create a new column 'new_column_name' based on the text of 'old_column_name'\n",
    "df = df.assign(NumHoles=df['GameType'].str[:2])"
   ]
  },
  {
   "cell_type": "code",
   "execution_count": 0,
   "metadata": {
    "application/vnd.databricks.v1+cell": {
     "cellMetadata": {},
     "inputWidgets": {},
     "nuid": "a0dd9521-75f2-40d6-b7c3-eca66d99bb01",
     "showTitle": false,
     "title": ""
    }
   },
   "outputs": [],
   "source": [
    "# convert column \"a\" of a DataFrame\n",
    "df[\"OverPar\"] = pd.to_numeric(df[\"OverPar\"])\n",
    "df[\"Score\"] = pd.to_numeric(df[\"Score\"])\n",
    "df[\"Putts\"] = pd.to_numeric(df[\"Putts\"])\n",
    "df[\"GIR\"] = pd.to_numeric(df[\"GIR\"])\n",
    "df[\"FairwayHit\"] = pd.to_numeric(df[\"FairwayHit\"])\n",
    "df[\"NumHoles\"] = pd.to_numeric(df[\"NumHoles\"])"
   ]
  },
  {
   "cell_type": "code",
   "execution_count": 0,
   "metadata": {
    "application/vnd.databricks.v1+cell": {
     "cellMetadata": {},
     "inputWidgets": {},
     "nuid": "4f1cffa5-cd55-4eba-a97a-016fc3c10884",
     "showTitle": false,
     "title": ""
    }
   },
   "outputs": [],
   "source": [
    "df.describe()"
   ]
  },
  {
   "cell_type": "code",
   "execution_count": 0,
   "metadata": {
    "application/vnd.databricks.v1+cell": {
     "cellMetadata": {},
     "inputWidgets": {},
     "nuid": "7c9496c2-68d0-499a-b44d-ea9707d3ee30",
     "showTitle": false,
     "title": ""
    }
   },
   "outputs": [],
   "source": [
    "df.NumHoles.unique()"
   ]
  },
  {
   "cell_type": "code",
   "execution_count": 0,
   "metadata": {
    "application/vnd.databricks.v1+cell": {
     "cellMetadata": {},
     "inputWidgets": {},
     "nuid": "921e7d59-be5a-4369-912d-7835475f09c1",
     "showTitle": false,
     "title": ""
    }
   },
   "outputs": [],
   "source": [
    "df.dtypes\n"
   ]
  },
  {
   "cell_type": "code",
   "execution_count": 0,
   "metadata": {
    "application/vnd.databricks.v1+cell": {
     "cellMetadata": {},
     "inputWidgets": {},
     "nuid": "d7278b9a-dee3-47fa-9679-49968b706ffa",
     "showTitle": false,
     "title": ""
    }
   },
   "outputs": [],
   "source": [
    "#calculate quartiles for each numeric column in DataFrame\n",
    "df.quantile(q=[0.25, 0.5, 0.75], axis=0, numeric_only=True)"
   ]
  },
  {
   "cell_type": "code",
   "execution_count": 0,
   "metadata": {
    "application/vnd.databricks.v1+cell": {
     "cellMetadata": {},
     "inputWidgets": {},
     "nuid": "f14faf0f-73a2-4d16-aea8-f71bab2777f1",
     "showTitle": false,
     "title": ""
    }
   },
   "outputs": [],
   "source": [
    "df.tail()"
   ]
  },
  {
   "cell_type": "code",
   "execution_count": 0,
   "metadata": {
    "application/vnd.databricks.v1+cell": {
     "cellMetadata": {},
     "inputWidgets": {},
     "nuid": "a01193e8-8b74-484c-95a6-efba88530e7b",
     "showTitle": false,
     "title": ""
    }
   },
   "outputs": [],
   "source": [
    "dfplot = pd.DataFrame(df.groupby('Course').OverPar.mean())"
   ]
  },
  {
   "cell_type": "code",
   "execution_count": 0,
   "metadata": {
    "application/vnd.databricks.v1+cell": {
     "cellMetadata": {},
     "inputWidgets": {},
     "nuid": "3a2d8a36-891b-4f1c-8d72-a121877ef1e5",
     "showTitle": false,
     "title": ""
    }
   },
   "outputs": [],
   "source": [
    "import plotly.express as px\n",
    "fig = px.bar(dfplot)\n",
    "fig.show()"
   ]
  },
  {
   "cell_type": "markdown",
   "metadata": {
    "application/vnd.databricks.v1+cell": {
     "cellMetadata": {},
     "inputWidgets": {},
     "nuid": "767a6bbe-a99d-4792-8533-f2ed1029d11a",
     "showTitle": false,
     "title": ""
    }
   },
   "source": [
    "### Check correlations between GIR and Putts"
   ]
  },
  {
   "cell_type": "code",
   "execution_count": 0,
   "metadata": {
    "application/vnd.databricks.v1+cell": {
     "cellMetadata": {},
     "inputWidgets": {},
     "nuid": "5389ccbf-b996-4d64-8035-5229258b2666",
     "showTitle": false,
     "title": ""
    }
   },
   "outputs": [],
   "source": [
    "df.corr()"
   ]
  },
  {
   "cell_type": "markdown",
   "metadata": {
    "application/vnd.databricks.v1+cell": {
     "cellMetadata": {},
     "inputWidgets": {},
     "nuid": "068c5724-06d0-4970-a71f-211d9a14a07f",
     "showTitle": false,
     "title": ""
    }
   },
   "source": [
    "### Correlations\n",
    "\n",
    "We can see the correlation between strokes over par and green in regulations is slightly negative. While I wouldn't say this is correlated, it is a good sanity check to understand that as my score goes down, the green in regulations go up. \n",
    "\n",
    "My putts are correlated to scoring over par. The more putts I hit, my score goes up."
   ]
  },
  {
   "cell_type": "code",
   "execution_count": 0,
   "metadata": {
    "application/vnd.databricks.v1+cell": {
     "cellMetadata": {},
     "inputWidgets": {},
     "nuid": "e0a4637e-0859-4cc9-908e-fb274a071e35",
     "showTitle": false,
     "title": ""
    }
   },
   "outputs": [],
   "source": [
    "df18 = df[df['NumHoles'] > 10]\n",
    "df9 = df[df['NumHoles'] <= 10]"
   ]
  },
  {
   "cell_type": "code",
   "execution_count": 0,
   "metadata": {
    "application/vnd.databricks.v1+cell": {
     "cellMetadata": {},
     "inputWidgets": {},
     "nuid": "1c47a3c3-fbab-414f-becc-0fd731a30860",
     "showTitle": false,
     "title": ""
    }
   },
   "outputs": [],
   "source": [
    "df18.head()"
   ]
  },
  {
   "cell_type": "code",
   "execution_count": 0,
   "metadata": {
    "application/vnd.databricks.v1+cell": {
     "cellMetadata": {},
     "inputWidgets": {},
     "nuid": "0b2a72d8-f2a9-4496-8132-74507acc7e74",
     "showTitle": false,
     "title": ""
    }
   },
   "outputs": [],
   "source": [
    "def CourseAverage(df):\n",
    "        if df[df['NumHoles']] == 9:\n",
    "                df = pd.DataFrame(df.groupby('Course').OverPar.mean())\n",
    "                df['HoleNum'] == 9\n",
    "        else:\n",
    "                df = pd.DataFrame(df.groupby('Course').OverPar.mean())\n",
    "                df['HoleNum'] == 18\n",
    "        print(df)"
   ]
  },
  {
   "cell_type": "code",
   "execution_count": 0,
   "metadata": {
    "application/vnd.databricks.v1+cell": {
     "cellMetadata": {},
     "inputWidgets": {},
     "nuid": "1abe9bb1-e4b6-4700-9fde-7cc03d55ee2f",
     "showTitle": false,
     "title": ""
    }
   },
   "outputs": [],
   "source": [
    "dfplot9.head()"
   ]
  },
  {
   "cell_type": "code",
   "execution_count": 0,
   "metadata": {
    "application/vnd.databricks.v1+cell": {
     "cellMetadata": {},
     "inputWidgets": {},
     "nuid": "3d141f90-a4f7-4d24-addd-c708ee0f54a4",
     "showTitle": false,
     "title": ""
    }
   },
   "outputs": [],
   "source": [
    "df['18HoleFlag'] = np.where(df['NumHoles'] > 10, True, False)"
   ]
  },
  {
   "cell_type": "code",
   "execution_count": 0,
   "metadata": {
    "application/vnd.databricks.v1+cell": {
     "cellMetadata": {},
     "inputWidgets": {},
     "nuid": "61f6f449-8826-494a-be46-fae3aeee95e9",
     "showTitle": false,
     "title": ""
    }
   },
   "outputs": [],
   "source": [
    "df = pd.DataFrame(df.groupby(['Course', 'NumHoles', '18HoleFlag']).OverPar.mean())"
   ]
  },
  {
   "cell_type": "code",
   "execution_count": 0,
   "metadata": {
    "application/vnd.databricks.v1+cell": {
     "cellMetadata": {},
     "inputWidgets": {},
     "nuid": "2484a334-b83e-48d2-bced-9b077b36f5c1",
     "showTitle": false,
     "title": ""
    }
   },
   "outputs": [],
   "source": [
    "df.head()"
   ]
  },
  {
   "cell_type": "code",
   "execution_count": 0,
   "metadata": {
    "application/vnd.databricks.v1+cell": {
     "cellMetadata": {},
     "inputWidgets": {},
     "nuid": "9330630e-26ad-4096-b2e9-879e15378949",
     "showTitle": false,
     "title": ""
    }
   },
   "outputs": [],
   "source": [
    "import plotly.express as px\n",
    "\n",
    "df = df\n",
    "fig = px.bar(df, x='Course', y='OverPar',\n",
    "             hover_data=['GameType', 'Putts'], color='18HoleFlag',\n",
    "             labels={'OverPar':'Strokes over par'}, height=400)\n",
    "fig.show()"
   ]
  },
  {
   "cell_type": "code",
   "execution_count": 0,
   "metadata": {
    "application/vnd.databricks.v1+cell": {
     "cellMetadata": {},
     "inputWidgets": {},
     "nuid": "502a3557-5743-40db-8d34-4763c707ea24",
     "showTitle": false,
     "title": ""
    }
   },
   "outputs": [],
   "source": [
    "import plotly.express as px\n",
    "\n",
    "df = px.data.gapminder().query(\"continent == 'Oceania'\")\n",
    "fig = px.bar(df, x='year', y='pop',\n",
    "             hover_data=['lifeExp', 'gdpPercap'], color='country',\n",
    "             labels={'pop':'population of Canada'}, height=400)\n",
    "fig.show()"
   ]
  },
  {
   "cell_type": "code",
   "execution_count": 0,
   "metadata": {
    "application/vnd.databricks.v1+cell": {
     "cellMetadata": {},
     "inputWidgets": {},
     "nuid": "3377e692-b606-4bb8-862a-c23c5ae8aebc",
     "showTitle": false,
     "title": ""
    }
   },
   "outputs": [],
   "source": [
    "df.head()"
   ]
  },
  {
   "cell_type": "code",
   "execution_count": 0,
   "metadata": {
    "application/vnd.databricks.v1+cell": {
     "cellMetadata": {},
     "inputWidgets": {},
     "nuid": "7ec36dfa-2a2b-47e1-a59c-c9ed61472cad",
     "showTitle": false,
     "title": ""
    }
   },
   "outputs": [],
   "source": [
    "import plotly.express as px\n",
    "\n",
    "df = dfplot\n",
    "fig = px.bar(df, x='year', y='pop',\n",
    "             hover_data=['lifeExp', 'gdpPercap'], color='country',\n",
    "             labels={'pop':'population of Canada'}, height=400)\n",
    "fig.show()"
   ]
  }
 ],
 "metadata": {
  "application/vnd.databricks.v1+notebook": {
   "dashboards": [],
   "language": "python",
   "notebookMetadata": {},
   "notebookName": "GolfAnalysis_OLD",
   "widgets": {}
  },
  "kernelspec": {
   "display_name": "Python 3",
   "language": "python",
   "name": "python3"
  },
  "language_info": {
   "codemirror_mode": {
    "name": "ipython",
    "version": 3
   },
   "file_extension": ".py",
   "mimetype": "text/x-python",
   "name": "python",
   "nbconvert_exporter": "python",
   "pygments_lexer": "ipython3",
   "version": "3.9.13"
  },
  "orig_nbformat": 4
 },
 "nbformat": 4,
 "nbformat_minor": 0
}
