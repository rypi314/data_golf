{
 "cells": [
  {
   "cell_type": "code",
   "execution_count": 5,
   "metadata": {},
   "outputs": [
    {
     "name": "stdout",
     "output_type": "stream",
     "text": [
      "   Group Number            Tee Time  Start Tee  Group Location  Group Hole  \\\n",
      "0             1 2025-03-20 11:35:00          1  Round Complete          18   \n",
      "1             1 2025-03-20 11:35:00          1  Round Complete          18   \n",
      "\n",
      "                             Course Name Group Status    Player Name Country  \n",
      "0  Innisbrook Resort (Copperhead Course)     COMPLETE  Danny Willett     ENG  \n",
      "1  Innisbrook Resort (Copperhead Course)     COMPLETE      Rico Hoey     PHI  \n"
     ]
    }
   ],
   "source": [
    "%run load_pga_tee_time.py\n",
    "df_tee_time = df"
   ]
  },
  {
   "cell_type": "code",
   "execution_count": 6,
   "metadata": {},
   "outputs": [
    {
     "name": "stdout",
     "output_type": "stream",
     "text": [
      "     Group Number            Tee Time  Start Tee Group Location  Group Hole  \\\n",
      "306             1 2025-03-22 11:30:00          1    Coming soon           1   \n",
      "307             1 2025-03-22 11:30:00          1    Coming soon           1   \n",
      "308             2 2025-03-22 11:39:00          1    Coming soon           1   \n",
      "309             2 2025-03-22 11:39:00          1    Coming soon           1   \n",
      "310             3 2025-03-22 11:48:00          1    Coming soon           1   \n",
      "..            ...                 ...        ...            ...         ...   \n",
      "379            37 2025-03-22 17:40:00          1    Coming soon           1   \n",
      "380            38 2025-03-22 17:50:00          1    Coming soon           1   \n",
      "381            38 2025-03-22 17:50:00          1    Coming soon           1   \n",
      "382            39 2025-03-22 18:00:00          1    Coming soon           1   \n",
      "383            39 2025-03-22 18:00:00          1    Coming soon           1   \n",
      "\n",
      "                               Course Name Group Status       Player Name  \\\n",
      "306  Innisbrook Resort (Copperhead Course)  NOT_STARTED      Neal Shipley   \n",
      "307  Innisbrook Resort (Copperhead Course)  NOT_STARTED    Mason Andersen   \n",
      "308  Innisbrook Resort (Copperhead Course)  NOT_STARTED  Thorbjørn Olesen   \n",
      "309  Innisbrook Resort (Copperhead Course)  NOT_STARTED       Steven Fisk   \n",
      "310  Innisbrook Resort (Copperhead Course)  NOT_STARTED  Patrick Fishburn   \n",
      "..                                     ...          ...               ...   \n",
      "379  Innisbrook Resort (Copperhead Course)  NOT_STARTED        Kevin Velo   \n",
      "380  Innisbrook Resort (Copperhead Course)  NOT_STARTED     Ryo Hisatsune   \n",
      "381  Innisbrook Resort (Copperhead Course)  NOT_STARTED     Byeong Hun An   \n",
      "382  Innisbrook Resort (Copperhead Course)  NOT_STARTED   Jacob Bridgeman   \n",
      "383  Innisbrook Resort (Copperhead Course)  NOT_STARTED    Viktor Hovland   \n",
      "\n",
      "    Country  \n",
      "306     USA  \n",
      "307     USA  \n",
      "308     DEN  \n",
      "309     USA  \n",
      "310     USA  \n",
      "..      ...  \n",
      "379     USA  \n",
      "380     JPN  \n",
      "381     KOR  \n",
      "382     USA  \n",
      "383     NOR  \n",
      "\n",
      "[78 rows x 9 columns]\n"
     ]
    }
   ],
   "source": [
    "import pandas as pd\n",
    "\n",
    "# User input for the date\n",
    "# Need try catch if date is old tournament.\n",
    "date_input = '2025-03-22'\n",
    "\n",
    "# Convert user input to a pandas Timestamp\n",
    "date_input = pd.to_datetime(date_input)\n",
    "\n",
    "# Filter the DataFrame to include only rows with the specified date\n",
    "df_tee_time = df_tee_time[df_tee_time['Tee Time'].dt.date == date_input.date()]\n",
    "\n",
    "print(df_tee_time)\n"
   ]
  },
  {
   "cell_type": "code",
   "execution_count": 7,
   "metadata": {},
   "outputs": [
    {
     "name": "stdout",
     "output_type": "stream",
     "text": [
      "  POS        PLAYER TOT THRU    R1    R2 R3 R4  total_stroke\n",
      "0   1  J. Bridgeman  -6    F  67.0  69.0  -  -           136\n",
      "1  T2    V. Hovland  -5   F*  70.0  67.0  -  -           137\n"
     ]
    },
    {
     "name": "stderr",
     "output_type": "stream",
     "text": [
      "C:\\Users\\rypi3\\source\\repos\\data_golf\\load_pga_tournament.py:40: FutureWarning: Setting an item of incompatible dtype is deprecated and will raise an error in a future version of pandas. Value '-' has dtype incompatible with float64, please explicitly cast to a compatible dtype first.\n",
      "  df.fillna('-', inplace=True)\n"
     ]
    }
   ],
   "source": [
    "%run load_pga_tournament.py\n",
    "df_tournament = df"
   ]
  },
  {
   "cell_type": "code",
   "execution_count": 8,
   "metadata": {},
   "outputs": [
    {
     "name": "stdout",
     "output_type": "stream",
     "text": [
      "    Player Name           Country Projected Rank Official Rank  \\\n",
      "0  Rory McIlroy  Northern Ireland              1             1   \n",
      "1   Sepp Straka           Austria              2             2   \n",
      "\n",
      "  Point Data Projected Point Data Official  \n",
      "0            1,586.286               1,586  \n",
      "1            1,328.637               1,283  \n"
     ]
    }
   ],
   "source": [
    "%run load_pga_fedexcup_rank.py\n",
    "df_rank = df"
   ]
  },
  {
   "cell_type": "code",
   "execution_count": 9,
   "metadata": {},
   "outputs": [],
   "source": [
    "# Function to extract last name\n",
    "def extract_last_name(full_name):\n",
    "    return full_name.split()[-1]"
   ]
  },
  {
   "cell_type": "code",
   "execution_count": 10,
   "metadata": {},
   "outputs": [],
   "source": [
    "def extract_name_with_initial(full_name):\n",
    "    name_parts = full_name.split()\n",
    "    first_initial = name_parts[0][0] + '.' if name_parts else ''\n",
    "    last_name = name_parts[-1] if len(name_parts) > 1 else ''\n",
    "    return f\"{first_initial} {last_name}\""
   ]
  },
  {
   "cell_type": "code",
   "execution_count": 11,
   "metadata": {},
   "outputs": [
    {
     "name": "stderr",
     "output_type": "stream",
     "text": [
      "C:\\Users\\rypi3\\AppData\\Local\\Temp\\ipykernel_9044\\4203428155.py:3: SettingWithCopyWarning: \n",
      "A value is trying to be set on a copy of a slice from a DataFrame.\n",
      "Try using .loc[row_indexer,col_indexer] = value instead\n",
      "\n",
      "See the caveats in the documentation: https://pandas.pydata.org/pandas-docs/stable/user_guide/indexing.html#returning-a-view-versus-a-copy\n",
      "  df_tee_time['Name_Key'] = df_tee_time['Player Name'].apply(extract_last_name)\n"
     ]
    }
   ],
   "source": [
    "# Apply the function to the Full Name column to create a new Last Name column\n",
    "df_tournament['Name_Key'] = df_tournament['PLAYER'].apply(extract_last_name)\n",
    "df_tee_time['Name_Key'] = df_tee_time['Player Name'].apply(extract_last_name)\n",
    "df_rank['Name_Key'] = df_rank['Player Name'].apply(extract_last_name)"
   ]
  },
  {
   "cell_type": "code",
   "execution_count": 12,
   "metadata": {},
   "outputs": [
    {
     "name": "stderr",
     "output_type": "stream",
     "text": [
      "C:\\Users\\rypi3\\AppData\\Local\\Temp\\ipykernel_9044\\643551268.py:3: SettingWithCopyWarning: \n",
      "A value is trying to be set on a copy of a slice from a DataFrame.\n",
      "Try using .loc[row_indexer,col_indexer] = value instead\n",
      "\n",
      "See the caveats in the documentation: https://pandas.pydata.org/pandas-docs/stable/user_guide/indexing.html#returning-a-view-versus-a-copy\n",
      "  df_tee_time['Name_Key2'] = df_tee_time['Player Name'].apply(extract_name_with_initial)\n"
     ]
    }
   ],
   "source": [
    "# Apply the function to the Full Name column to create a new Last Name column\n",
    "df_tournament['Name_Key2'] = df_tournament['PLAYER'].apply(extract_name_with_initial)\n",
    "df_tee_time['Name_Key2'] = df_tee_time['Player Name'].apply(extract_name_with_initial)\n",
    "df_rank['Name_Key2'] = df_rank['Player Name'].apply(extract_name_with_initial)"
   ]
  },
  {
   "cell_type": "code",
   "execution_count": 13,
   "metadata": {},
   "outputs": [
    {
     "data": {
      "text/html": [
       "<div>\n",
       "<style scoped>\n",
       "    .dataframe tbody tr th:only-of-type {\n",
       "        vertical-align: middle;\n",
       "    }\n",
       "\n",
       "    .dataframe tbody tr th {\n",
       "        vertical-align: top;\n",
       "    }\n",
       "\n",
       "    .dataframe thead th {\n",
       "        text-align: right;\n",
       "    }\n",
       "</style>\n",
       "<table border=\"1\" class=\"dataframe\">\n",
       "  <thead>\n",
       "    <tr style=\"text-align: right;\">\n",
       "      <th></th>\n",
       "      <th>Group Number</th>\n",
       "      <th>Tee Time</th>\n",
       "      <th>Start Tee</th>\n",
       "      <th>Group Location</th>\n",
       "      <th>Group Hole</th>\n",
       "      <th>Course Name</th>\n",
       "      <th>Group Status</th>\n",
       "      <th>Player Name</th>\n",
       "      <th>Country</th>\n",
       "      <th>Name_Key</th>\n",
       "      <th>Name_Key2</th>\n",
       "    </tr>\n",
       "  </thead>\n",
       "  <tbody>\n",
       "    <tr>\n",
       "      <th>382</th>\n",
       "      <td>39</td>\n",
       "      <td>2025-03-22 18:00:00</td>\n",
       "      <td>1</td>\n",
       "      <td>Coming soon</td>\n",
       "      <td>1</td>\n",
       "      <td>Innisbrook Resort (Copperhead Course)</td>\n",
       "      <td>NOT_STARTED</td>\n",
       "      <td>Jacob Bridgeman</td>\n",
       "      <td>USA</td>\n",
       "      <td>Bridgeman</td>\n",
       "      <td>J. Bridgeman</td>\n",
       "    </tr>\n",
       "    <tr>\n",
       "      <th>383</th>\n",
       "      <td>39</td>\n",
       "      <td>2025-03-22 18:00:00</td>\n",
       "      <td>1</td>\n",
       "      <td>Coming soon</td>\n",
       "      <td>1</td>\n",
       "      <td>Innisbrook Resort (Copperhead Course)</td>\n",
       "      <td>NOT_STARTED</td>\n",
       "      <td>Viktor Hovland</td>\n",
       "      <td>NOR</td>\n",
       "      <td>Hovland</td>\n",
       "      <td>V. Hovland</td>\n",
       "    </tr>\n",
       "  </tbody>\n",
       "</table>\n",
       "</div>"
      ],
      "text/plain": [
       "     Group Number            Tee Time  Start Tee Group Location  Group Hole  \\\n",
       "382            39 2025-03-22 18:00:00          1    Coming soon           1   \n",
       "383            39 2025-03-22 18:00:00          1    Coming soon           1   \n",
       "\n",
       "                               Course Name Group Status      Player Name  \\\n",
       "382  Innisbrook Resort (Copperhead Course)  NOT_STARTED  Jacob Bridgeman   \n",
       "383  Innisbrook Resort (Copperhead Course)  NOT_STARTED   Viktor Hovland   \n",
       "\n",
       "    Country   Name_Key     Name_Key2  \n",
       "382     USA  Bridgeman  J. Bridgeman  \n",
       "383     NOR    Hovland    V. Hovland  "
      ]
     },
     "execution_count": 13,
     "metadata": {},
     "output_type": "execute_result"
    }
   ],
   "source": [
    "df_tee_time.tail(2)"
   ]
  },
  {
   "cell_type": "code",
   "execution_count": 14,
   "metadata": {},
   "outputs": [],
   "source": [
    "df_times_rank = pd.merge(df_tee_time, df_tournament, on='Name_Key2', how='left')\n",
    "df_times_rank = pd.merge(df_times_rank, df_rank, on='Name_Key2', how='left')"
   ]
  },
  {
   "cell_type": "code",
   "execution_count": 15,
   "metadata": {},
   "outputs": [
    {
     "name": "stdout",
     "output_type": "stream",
     "text": [
      "30\n"
     ]
    }
   ],
   "source": [
    "print(df_rank.shape[1] + df_tee_time.shape[1] + df_tournament.shape[1])"
   ]
  },
  {
   "cell_type": "code",
   "execution_count": 16,
   "metadata": {},
   "outputs": [],
   "source": [
    "df_times_rank = df_times_rank[['Group Number','Tee Time', 'Player Name_x','POS','Official Rank']]"
   ]
  },
  {
   "cell_type": "code",
   "execution_count": 18,
   "metadata": {},
   "outputs": [],
   "source": [
    "# Convert numeric columns to integer\n",
    "# Replace '-', remove 'T', handle NaN values, and safely convert to integers\n",
    "df_times_rank['Official Rank'] = (\n",
    "    df_times_rank['Official Rank']\n",
    "    .replace('-', 1000)               # Replace '-' with 1000\n",
    "    .astype(str)                      # Convert the column to string\n",
    "    .str.replace('T', '', regex=False)  # Remove 'T' (regex=False makes it explicit)\n",
    "    .replace('nan', 1000)             # Handle 'nan' represented as a string\n",
    "    .fillna(1000)                     # Handle actual NaN values\n",
    "    .astype(float)                    # Convert to float first\n",
    "    .astype(int)                      # Finally, convert to integer\n",
    ")\n",
    "\n"
   ]
  },
  {
   "cell_type": "code",
   "execution_count": 19,
   "metadata": {},
   "outputs": [
    {
     "data": {
      "text/plain": [
       "Group Number              int64\n",
       "Tee Time         datetime64[ns]\n",
       "Player Name_x            object\n",
       "POS                      object\n",
       "Official Rank             int64\n",
       "dtype: object"
      ]
     },
     "execution_count": 19,
     "metadata": {},
     "output_type": "execute_result"
    }
   ],
   "source": [
    "df_times_rank.dtypes"
   ]
  },
  {
   "cell_type": "code",
   "execution_count": 20,
   "metadata": {},
   "outputs": [],
   "source": [
    "# Group by the key and calculate the difference between rows\n",
    "df_times_rank['Difference'] = df_times_rank.groupby('Group Number')['Official Rank'].diff().fillna(0)"
   ]
  },
  {
   "cell_type": "code",
   "execution_count": 21,
   "metadata": {},
   "outputs": [
    {
     "name": "stdout",
     "output_type": "stream",
     "text": [
      "original row count: 78\n"
     ]
    }
   ],
   "source": [
    "print(f'original row count: {df_times_rank.shape[0]}')"
   ]
  },
  {
   "cell_type": "code",
   "execution_count": 22,
   "metadata": {},
   "outputs": [],
   "source": [
    "# Remove duplicates from upcoming tee times\n",
    "df_times_rank.drop_duplicates(inplace=True)"
   ]
  },
  {
   "cell_type": "code",
   "execution_count": 23,
   "metadata": {},
   "outputs": [
    {
     "name": "stdout",
     "output_type": "stream",
     "text": [
      "original row count: 78\n"
     ]
    }
   ],
   "source": [
    "print(f'original row count: {df_times_rank.shape[0]}')\n"
   ]
  },
  {
   "cell_type": "code",
   "execution_count": 24,
   "metadata": {},
   "outputs": [
    {
     "data": {
      "text/html": [
       "<div>\n",
       "<style scoped>\n",
       "    .dataframe tbody tr th:only-of-type {\n",
       "        vertical-align: middle;\n",
       "    }\n",
       "\n",
       "    .dataframe tbody tr th {\n",
       "        vertical-align: top;\n",
       "    }\n",
       "\n",
       "    .dataframe thead th {\n",
       "        text-align: right;\n",
       "    }\n",
       "</style>\n",
       "<table border=\"1\" class=\"dataframe\">\n",
       "  <thead>\n",
       "    <tr style=\"text-align: right;\">\n",
       "      <th></th>\n",
       "      <th>Group Number</th>\n",
       "      <th>Tee Time</th>\n",
       "      <th>Player Name_x</th>\n",
       "      <th>POS</th>\n",
       "      <th>Official Rank</th>\n",
       "      <th>Difference</th>\n",
       "    </tr>\n",
       "  </thead>\n",
       "  <tbody>\n",
       "    <tr>\n",
       "      <th>19</th>\n",
       "      <td>10</td>\n",
       "      <td>2025-03-22 12:51:00</td>\n",
       "      <td>Braden Thornberry</td>\n",
       "      <td>T53</td>\n",
       "      <td>1000</td>\n",
       "      <td>922.0</td>\n",
       "    </tr>\n",
       "    <tr>\n",
       "      <th>21</th>\n",
       "      <td>11</td>\n",
       "      <td>2025-03-22 13:05:00</td>\n",
       "      <td>Luke Clanton</td>\n",
       "      <td>T53</td>\n",
       "      <td>1000</td>\n",
       "      <td>874.0</td>\n",
       "    </tr>\n",
       "    <tr>\n",
       "      <th>27</th>\n",
       "      <td>14</td>\n",
       "      <td>2025-03-22 13:35:00</td>\n",
       "      <td>Kaito Onishi</td>\n",
       "      <td>T39</td>\n",
       "      <td>1000</td>\n",
       "      <td>853.0</td>\n",
       "    </tr>\n",
       "    <tr>\n",
       "      <th>33</th>\n",
       "      <td>17</td>\n",
       "      <td>2025-03-22 14:05:00</td>\n",
       "      <td>Kevin Kisner</td>\n",
       "      <td>T39</td>\n",
       "      <td>1000</td>\n",
       "      <td>840.0</td>\n",
       "    </tr>\n",
       "    <tr>\n",
       "      <th>47</th>\n",
       "      <td>24</td>\n",
       "      <td>2025-03-22 15:20:00</td>\n",
       "      <td>David Lipsky</td>\n",
       "      <td>T26</td>\n",
       "      <td>183</td>\n",
       "      <td>147.0</td>\n",
       "    </tr>\n",
       "  </tbody>\n",
       "</table>\n",
       "</div>"
      ],
      "text/plain": [
       "    Group Number            Tee Time      Player Name_x  POS  Official Rank  \\\n",
       "19            10 2025-03-22 12:51:00  Braden Thornberry  T53           1000   \n",
       "21            11 2025-03-22 13:05:00       Luke Clanton  T53           1000   \n",
       "27            14 2025-03-22 13:35:00       Kaito Onishi  T39           1000   \n",
       "33            17 2025-03-22 14:05:00       Kevin Kisner  T39           1000   \n",
       "47            24 2025-03-22 15:20:00       David Lipsky  T26            183   \n",
       "\n",
       "    Difference  \n",
       "19       922.0  \n",
       "21       874.0  \n",
       "27       853.0  \n",
       "33       840.0  \n",
       "47       147.0  "
      ]
     },
     "execution_count": 24,
     "metadata": {},
     "output_type": "execute_result"
    }
   ],
   "source": [
    "df_best_groups = df_times_rank[df_times_rank['Difference']>100]\n",
    "df_best_groups.head()"
   ]
  },
  {
   "cell_type": "code",
   "execution_count": 25,
   "metadata": {},
   "outputs": [
    {
     "data": {
      "text/html": [
       "<div>\n",
       "<style scoped>\n",
       "    .dataframe tbody tr th:only-of-type {\n",
       "        vertical-align: middle;\n",
       "    }\n",
       "\n",
       "    .dataframe tbody tr th {\n",
       "        vertical-align: top;\n",
       "    }\n",
       "\n",
       "    .dataframe thead th {\n",
       "        text-align: right;\n",
       "    }\n",
       "</style>\n",
       "<table border=\"1\" class=\"dataframe\">\n",
       "  <thead>\n",
       "    <tr style=\"text-align: right;\">\n",
       "      <th></th>\n",
       "      <th>Group Number</th>\n",
       "      <th>Tee Time</th>\n",
       "      <th>Player Name_x</th>\n",
       "      <th>POS</th>\n",
       "      <th>Official Rank</th>\n",
       "      <th>Difference</th>\n",
       "    </tr>\n",
       "  </thead>\n",
       "  <tbody>\n",
       "    <tr>\n",
       "      <th>18</th>\n",
       "      <td>10</td>\n",
       "      <td>2025-03-22 12:51:00</td>\n",
       "      <td>Ryan Gerard</td>\n",
       "      <td>T53</td>\n",
       "      <td>78</td>\n",
       "      <td>0.0</td>\n",
       "    </tr>\n",
       "    <tr>\n",
       "      <th>19</th>\n",
       "      <td>10</td>\n",
       "      <td>2025-03-22 12:51:00</td>\n",
       "      <td>Braden Thornberry</td>\n",
       "      <td>T53</td>\n",
       "      <td>1000</td>\n",
       "      <td>922.0</td>\n",
       "    </tr>\n",
       "    <tr>\n",
       "      <th>20</th>\n",
       "      <td>11</td>\n",
       "      <td>2025-03-22 13:05:00</td>\n",
       "      <td>Matt McCarty</td>\n",
       "      <td>T53</td>\n",
       "      <td>126</td>\n",
       "      <td>0.0</td>\n",
       "    </tr>\n",
       "    <tr>\n",
       "      <th>21</th>\n",
       "      <td>11</td>\n",
       "      <td>2025-03-22 13:05:00</td>\n",
       "      <td>Luke Clanton</td>\n",
       "      <td>T53</td>\n",
       "      <td>1000</td>\n",
       "      <td>874.0</td>\n",
       "    </tr>\n",
       "    <tr>\n",
       "      <th>26</th>\n",
       "      <td>14</td>\n",
       "      <td>2025-03-22 13:35:00</td>\n",
       "      <td>C.T. Pan</td>\n",
       "      <td>T39</td>\n",
       "      <td>147</td>\n",
       "      <td>0.0</td>\n",
       "    </tr>\n",
       "    <tr>\n",
       "      <th>27</th>\n",
       "      <td>14</td>\n",
       "      <td>2025-03-22 13:35:00</td>\n",
       "      <td>Kaito Onishi</td>\n",
       "      <td>T39</td>\n",
       "      <td>1000</td>\n",
       "      <td>853.0</td>\n",
       "    </tr>\n",
       "    <tr>\n",
       "      <th>32</th>\n",
       "      <td>17</td>\n",
       "      <td>2025-03-22 14:05:00</td>\n",
       "      <td>Chandler Phillips</td>\n",
       "      <td>T39</td>\n",
       "      <td>160</td>\n",
       "      <td>0.0</td>\n",
       "    </tr>\n",
       "    <tr>\n",
       "      <th>33</th>\n",
       "      <td>17</td>\n",
       "      <td>2025-03-22 14:05:00</td>\n",
       "      <td>Kevin Kisner</td>\n",
       "      <td>T39</td>\n",
       "      <td>1000</td>\n",
       "      <td>840.0</td>\n",
       "    </tr>\n",
       "    <tr>\n",
       "      <th>46</th>\n",
       "      <td>24</td>\n",
       "      <td>2025-03-22 15:20:00</td>\n",
       "      <td>Andrew Novak</td>\n",
       "      <td>T26</td>\n",
       "      <td>36</td>\n",
       "      <td>0.0</td>\n",
       "    </tr>\n",
       "    <tr>\n",
       "      <th>47</th>\n",
       "      <td>24</td>\n",
       "      <td>2025-03-22 15:20:00</td>\n",
       "      <td>David Lipsky</td>\n",
       "      <td>T26</td>\n",
       "      <td>183</td>\n",
       "      <td>147.0</td>\n",
       "    </tr>\n",
       "    <tr>\n",
       "      <th>72</th>\n",
       "      <td>37</td>\n",
       "      <td>2025-03-22 17:40:00</td>\n",
       "      <td>Shane Lowry</td>\n",
       "      <td>T5</td>\n",
       "      <td>12</td>\n",
       "      <td>0.0</td>\n",
       "    </tr>\n",
       "    <tr>\n",
       "      <th>73</th>\n",
       "      <td>37</td>\n",
       "      <td>2025-03-22 17:40:00</td>\n",
       "      <td>Kevin Velo</td>\n",
       "      <td>T5</td>\n",
       "      <td>189</td>\n",
       "      <td>177.0</td>\n",
       "    </tr>\n",
       "  </tbody>\n",
       "</table>\n",
       "</div>"
      ],
      "text/plain": [
       "    Group Number            Tee Time      Player Name_x  POS  Official Rank  \\\n",
       "18            10 2025-03-22 12:51:00        Ryan Gerard  T53             78   \n",
       "19            10 2025-03-22 12:51:00  Braden Thornberry  T53           1000   \n",
       "20            11 2025-03-22 13:05:00       Matt McCarty  T53            126   \n",
       "21            11 2025-03-22 13:05:00       Luke Clanton  T53           1000   \n",
       "26            14 2025-03-22 13:35:00           C.T. Pan  T39            147   \n",
       "27            14 2025-03-22 13:35:00       Kaito Onishi  T39           1000   \n",
       "32            17 2025-03-22 14:05:00  Chandler Phillips  T39            160   \n",
       "33            17 2025-03-22 14:05:00       Kevin Kisner  T39           1000   \n",
       "46            24 2025-03-22 15:20:00       Andrew Novak  T26             36   \n",
       "47            24 2025-03-22 15:20:00       David Lipsky  T26            183   \n",
       "72            37 2025-03-22 17:40:00        Shane Lowry   T5             12   \n",
       "73            37 2025-03-22 17:40:00         Kevin Velo   T5            189   \n",
       "\n",
       "    Difference  \n",
       "18         0.0  \n",
       "19       922.0  \n",
       "20         0.0  \n",
       "21       874.0  \n",
       "26         0.0  \n",
       "27       853.0  \n",
       "32         0.0  \n",
       "33       840.0  \n",
       "46         0.0  \n",
       "47       147.0  \n",
       "72         0.0  \n",
       "73       177.0  "
      ]
     },
     "execution_count": 25,
     "metadata": {},
     "output_type": "execute_result"
    }
   ],
   "source": [
    "# Filter rows in df_other based on Group Numbers in df_best_groups\n",
    "df_bet = df_times_rank[df_times_rank['Group Number'].isin(df_best_groups['Group Number'])]\n",
    "\n",
    "df_bet.head(50)\n"
   ]
  },
  {
   "cell_type": "code",
   "execution_count": 26,
   "metadata": {},
   "outputs": [
    {
     "data": {
      "text/plain": [
       "18          Ryan Gerard\n",
       "20         Matt McCarty\n",
       "26             C.T. Pan\n",
       "32    Chandler Phillips\n",
       "46         Andrew Novak\n",
       "72          Shane Lowry\n",
       "Name: Player Name_x, dtype: object"
      ]
     },
     "execution_count": 26,
     "metadata": {},
     "output_type": "execute_result"
    }
   ],
   "source": [
    "df_bet['Player Name_x'][df_bet['Difference'] == 0]"
   ]
  },
  {
   "cell_type": "code",
   "execution_count": 27,
   "metadata": {},
   "outputs": [
    {
     "ename": "ModuleNotFoundError",
     "evalue": "No module named 'tabulate'",
     "output_type": "error",
     "traceback": [
      "\u001b[31m---------------------------------------------------------------------------\u001b[39m",
      "\u001b[31mModuleNotFoundError\u001b[39m                       Traceback (most recent call last)",
      "\u001b[36mCell\u001b[39m\u001b[36m \u001b[39m\u001b[32mIn[27]\u001b[39m\u001b[32m, line 1\u001b[39m\n\u001b[32m----> \u001b[39m\u001b[32m1\u001b[39m \u001b[38;5;28;01mimport\u001b[39;00m\u001b[38;5;250m \u001b[39m\u001b[34;01mtabulate\u001b[39;00m\n",
      "\u001b[31mModuleNotFoundError\u001b[39m: No module named 'tabulate'"
     ]
    }
   ],
   "source": [
    "import tabulate"
   ]
  }
 ],
 "metadata": {
  "kernelspec": {
   "display_name": ".venv",
   "language": "python",
   "name": "python3"
  },
  "language_info": {
   "codemirror_mode": {
    "name": "ipython",
    "version": 3
   },
   "file_extension": ".py",
   "mimetype": "text/x-python",
   "name": "python",
   "nbconvert_exporter": "python",
   "pygments_lexer": "ipython3",
   "version": "3.13.2"
  }
 },
 "nbformat": 4,
 "nbformat_minor": 2
}
