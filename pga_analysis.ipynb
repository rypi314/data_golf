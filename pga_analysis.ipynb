{
 "cells": [
  {
   "cell_type": "code",
   "execution_count": 1,
   "metadata": {},
   "outputs": [
    {
     "name": "stdout",
     "output_type": "stream",
     "text": [
      "   Group Number            Tee Time  Start Tee Group Location  Group Hole  \\\n",
      "0             1 2025-03-06 12:40:00          1    Coming soon           1   \n",
      "1             1 2025-03-06 12:40:00          1    Coming soon           1   \n",
      "\n",
      "                             Course Name Group Status      Player Name Country  \n",
      "0  Arnold Palmer's Bay Hill Club & Lodge  NOT_STARTED   Brian Campbell     USA  \n",
      "1  Arnold Palmer's Bay Hill Club & Lodge  NOT_STARTED  Jacob Bridgeman     USA  \n"
     ]
    }
   ],
   "source": [
    "%run load_pga_tee_time.py\n",
    "df_tee_time = df"
   ]
  },
  {
   "cell_type": "code",
   "execution_count": 2,
   "metadata": {},
   "outputs": [
    {
     "name": "stdout",
     "output_type": "stream",
     "text": [
      "    Group Number            Tee Time  Start Tee Group Location  Group Hole  \\\n",
      "0              1 2025-03-06 12:40:00          1    Coming soon           1   \n",
      "1              1 2025-03-06 12:40:00          1    Coming soon           1   \n",
      "2              2 2025-03-06 12:50:00          1    Coming soon           1   \n",
      "3              2 2025-03-06 12:50:00          1    Coming soon           1   \n",
      "4              3 2025-03-06 13:00:00          1    Coming soon           1   \n",
      "..           ...                 ...        ...            ...         ...   \n",
      "67            34 2025-03-06 18:30:00          1    Coming soon           1   \n",
      "68            35 2025-03-06 18:40:00          1    Coming soon           1   \n",
      "69            35 2025-03-06 18:40:00          1    Coming soon           1   \n",
      "70            36 2025-03-06 18:50:00          1    Coming soon           1   \n",
      "71            36 2025-03-06 18:50:00          1    Coming soon           1   \n",
      "\n",
      "                              Course Name Group Status      Player Name  \\\n",
      "0   Arnold Palmer's Bay Hill Club & Lodge  NOT_STARTED   Brian Campbell   \n",
      "1   Arnold Palmer's Bay Hill Club & Lodge  NOT_STARTED  Jacob Bridgeman   \n",
      "2   Arnold Palmer's Bay Hill Club & Lodge  NOT_STARTED          Tom Kim   \n",
      "3   Arnold Palmer's Bay Hill Club & Lodge  NOT_STARTED      Min Woo Lee   \n",
      "4   Arnold Palmer's Bay Hill Club & Lodge  NOT_STARTED       J.J. Spaun   \n",
      "..                                    ...          ...              ...   \n",
      "67  Arnold Palmer's Bay Hill Club & Lodge  NOT_STARTED  Patrick Cantlay   \n",
      "68  Arnold Palmer's Bay Hill Club & Lodge  NOT_STARTED      Justin Rose   \n",
      "69  Arnold Palmer's Bay Hill Club & Lodge  NOT_STARTED  Patrick Rodgers   \n",
      "70  Arnold Palmer's Bay Hill Club & Lodge  NOT_STARTED   Harris English   \n",
      "71  Arnold Palmer's Bay Hill Club & Lodge  NOT_STARTED    Rafael Campos   \n",
      "\n",
      "   Country  \n",
      "0      USA  \n",
      "1      USA  \n",
      "2      KOR  \n",
      "3      AUS  \n",
      "4      USA  \n",
      "..     ...  \n",
      "67     USA  \n",
      "68     ENG  \n",
      "69     USA  \n",
      "70     USA  \n",
      "71     PUR  \n",
      "\n",
      "[72 rows x 9 columns]\n"
     ]
    }
   ],
   "source": [
    "import pandas as pd\n",
    "\n",
    "# User input for the date\n",
    "date_input = '2025-03-06'\n",
    "\n",
    "# Convert user input to a pandas Timestamp\n",
    "date_input = pd.to_datetime(date_input)\n",
    "\n",
    "# Filter the DataFrame to include only rows with the specified date\n",
    "df_tee_time = df_tee_time[df_tee_time['Tee Time'].dt.date == date_input.date()]\n",
    "\n",
    "print(df_tee_time)\n"
   ]
  },
  {
   "cell_type": "code",
   "execution_count": 3,
   "metadata": {},
   "outputs": [
    {
     "name": "stdout",
     "output_type": "stream",
     "text": [
      "  POS        PLAYER TOT     THRU R1 R2 R3 R4  total_stroke\n",
      "0   -   B. Campbell   E  7:40 AM  -  -  -  -             0\n",
      "1   -  J. Bridgeman   E  7:40 AM  -  -  -  -             0\n"
     ]
    },
    {
     "name": "stderr",
     "output_type": "stream",
     "text": [
      "C:\\Users\\rypi3\\source\\repos\\data_golf\\load_pga_tournament.py:40: FutureWarning: Setting an item of incompatible dtype is deprecated and will raise an error in a future version of pandas. Value '-' has dtype incompatible with float64, please explicitly cast to a compatible dtype first.\n",
      "  df.fillna('-', inplace=True)\n"
     ]
    }
   ],
   "source": [
    "%run load_pga_tournament.py\n",
    "df_tournament = df"
   ]
  },
  {
   "cell_type": "code",
   "execution_count": 4,
   "metadata": {},
   "outputs": [
    {
     "name": "stdout",
     "output_type": "stream",
     "text": [
      "    Player Name  Country Projected Rank Official Rank Point Data Projected  \\\n",
      "0  Ludvig Åberg   Sweden              1             1            1,678.417   \n",
      "1   Sepp Straka  Austria              2             2            1,612.595   \n",
      "\n",
      "  Point Data Official  \n",
      "0                 978  \n",
      "1                 913  \n"
     ]
    }
   ],
   "source": [
    "%run load_pga_fedexcup_rank.py\n",
    "df_rank = df"
   ]
  },
  {
   "cell_type": "code",
   "execution_count": 5,
   "metadata": {},
   "outputs": [],
   "source": [
    "# Function to extract last name\n",
    "def extract_last_name(full_name):\n",
    "    return full_name.split()[-1]"
   ]
  },
  {
   "cell_type": "code",
   "execution_count": 6,
   "metadata": {},
   "outputs": [],
   "source": [
    "def extract_name_with_initial(full_name):\n",
    "    name_parts = full_name.split()\n",
    "    first_initial = name_parts[0][0] + '.' if name_parts else ''\n",
    "    last_name = name_parts[-1] if len(name_parts) > 1 else ''\n",
    "    return f\"{first_initial} {last_name}\""
   ]
  },
  {
   "cell_type": "code",
   "execution_count": 7,
   "metadata": {},
   "outputs": [
    {
     "name": "stderr",
     "output_type": "stream",
     "text": [
      "C:\\Users\\rypi3\\AppData\\Local\\Temp\\ipykernel_20416\\4203428155.py:3: SettingWithCopyWarning: \n",
      "A value is trying to be set on a copy of a slice from a DataFrame.\n",
      "Try using .loc[row_indexer,col_indexer] = value instead\n",
      "\n",
      "See the caveats in the documentation: https://pandas.pydata.org/pandas-docs/stable/user_guide/indexing.html#returning-a-view-versus-a-copy\n",
      "  df_tee_time['Name_Key'] = df_tee_time['Player Name'].apply(extract_last_name)\n"
     ]
    }
   ],
   "source": [
    "# Apply the function to the Full Name column to create a new Last Name column\n",
    "df_tournament['Name_Key'] = df_tournament['PLAYER'].apply(extract_last_name)\n",
    "df_tee_time['Name_Key'] = df_tee_time['Player Name'].apply(extract_last_name)\n",
    "df_rank['Name_Key'] = df_rank['Player Name'].apply(extract_last_name)"
   ]
  },
  {
   "cell_type": "code",
   "execution_count": 8,
   "metadata": {},
   "outputs": [
    {
     "name": "stderr",
     "output_type": "stream",
     "text": [
      "C:\\Users\\rypi3\\AppData\\Local\\Temp\\ipykernel_20416\\643551268.py:3: SettingWithCopyWarning: \n",
      "A value is trying to be set on a copy of a slice from a DataFrame.\n",
      "Try using .loc[row_indexer,col_indexer] = value instead\n",
      "\n",
      "See the caveats in the documentation: https://pandas.pydata.org/pandas-docs/stable/user_guide/indexing.html#returning-a-view-versus-a-copy\n",
      "  df_tee_time['Name_Key2'] = df_tee_time['Player Name'].apply(extract_name_with_initial)\n"
     ]
    }
   ],
   "source": [
    "# Apply the function to the Full Name column to create a new Last Name column\n",
    "df_tournament['Name_Key2'] = df_tournament['PLAYER'].apply(extract_name_with_initial)\n",
    "df_tee_time['Name_Key2'] = df_tee_time['Player Name'].apply(extract_name_with_initial)\n",
    "df_rank['Name_Key2'] = df_rank['Player Name'].apply(extract_name_with_initial)"
   ]
  },
  {
   "cell_type": "code",
   "execution_count": 9,
   "metadata": {},
   "outputs": [
    {
     "data": {
      "text/html": [
       "<div>\n",
       "<style scoped>\n",
       "    .dataframe tbody tr th:only-of-type {\n",
       "        vertical-align: middle;\n",
       "    }\n",
       "\n",
       "    .dataframe tbody tr th {\n",
       "        vertical-align: top;\n",
       "    }\n",
       "\n",
       "    .dataframe thead th {\n",
       "        text-align: right;\n",
       "    }\n",
       "</style>\n",
       "<table border=\"1\" class=\"dataframe\">\n",
       "  <thead>\n",
       "    <tr style=\"text-align: right;\">\n",
       "      <th></th>\n",
       "      <th>Group Number</th>\n",
       "      <th>Tee Time</th>\n",
       "      <th>Start Tee</th>\n",
       "      <th>Group Location</th>\n",
       "      <th>Group Hole</th>\n",
       "      <th>Course Name</th>\n",
       "      <th>Group Status</th>\n",
       "      <th>Player Name</th>\n",
       "      <th>Country</th>\n",
       "      <th>Name_Key</th>\n",
       "      <th>Name_Key2</th>\n",
       "    </tr>\n",
       "  </thead>\n",
       "  <tbody>\n",
       "    <tr>\n",
       "      <th>70</th>\n",
       "      <td>36</td>\n",
       "      <td>2025-03-06 18:50:00</td>\n",
       "      <td>1</td>\n",
       "      <td>Coming soon</td>\n",
       "      <td>1</td>\n",
       "      <td>Arnold Palmer's Bay Hill Club &amp; Lodge</td>\n",
       "      <td>NOT_STARTED</td>\n",
       "      <td>Harris English</td>\n",
       "      <td>USA</td>\n",
       "      <td>English</td>\n",
       "      <td>H. English</td>\n",
       "    </tr>\n",
       "    <tr>\n",
       "      <th>71</th>\n",
       "      <td>36</td>\n",
       "      <td>2025-03-06 18:50:00</td>\n",
       "      <td>1</td>\n",
       "      <td>Coming soon</td>\n",
       "      <td>1</td>\n",
       "      <td>Arnold Palmer's Bay Hill Club &amp; Lodge</td>\n",
       "      <td>NOT_STARTED</td>\n",
       "      <td>Rafael Campos</td>\n",
       "      <td>PUR</td>\n",
       "      <td>Campos</td>\n",
       "      <td>R. Campos</td>\n",
       "    </tr>\n",
       "  </tbody>\n",
       "</table>\n",
       "</div>"
      ],
      "text/plain": [
       "    Group Number            Tee Time  Start Tee Group Location  Group Hole  \\\n",
       "70            36 2025-03-06 18:50:00          1    Coming soon           1   \n",
       "71            36 2025-03-06 18:50:00          1    Coming soon           1   \n",
       "\n",
       "                              Course Name Group Status     Player Name  \\\n",
       "70  Arnold Palmer's Bay Hill Club & Lodge  NOT_STARTED  Harris English   \n",
       "71  Arnold Palmer's Bay Hill Club & Lodge  NOT_STARTED   Rafael Campos   \n",
       "\n",
       "   Country Name_Key   Name_Key2  \n",
       "70     USA  English  H. English  \n",
       "71     PUR   Campos   R. Campos  "
      ]
     },
     "execution_count": 9,
     "metadata": {},
     "output_type": "execute_result"
    }
   ],
   "source": [
    "df_tee_time.tail(2)"
   ]
  },
  {
   "cell_type": "code",
   "execution_count": 10,
   "metadata": {},
   "outputs": [],
   "source": [
    "df_times_rank = pd.merge(df_tee_time, df_tournament, on='Name_Key2', how='left')\n",
    "df_times_rank = pd.merge(df_times_rank, df_rank, on='Name_Key2', how='left')"
   ]
  },
  {
   "cell_type": "code",
   "execution_count": 11,
   "metadata": {},
   "outputs": [
    {
     "name": "stdout",
     "output_type": "stream",
     "text": [
      "30\n"
     ]
    }
   ],
   "source": [
    "print(df_rank.shape[1] + df_tee_time.shape[1] + df_tournament.shape[1])"
   ]
  },
  {
   "cell_type": "code",
   "execution_count": 12,
   "metadata": {},
   "outputs": [],
   "source": [
    "df_times_rank = df_times_rank[['Group Number','Tee Time', 'Player Name_x','POS','Official Rank']]"
   ]
  },
  {
   "cell_type": "code",
   "execution_count": 13,
   "metadata": {},
   "outputs": [],
   "source": [
    "# Convert numeric columns to integer\n",
    "df_times_rank['Official Rank'] = df_times_rank['Official Rank'].fillna(1000).astype(int)"
   ]
  },
  {
   "cell_type": "code",
   "execution_count": 14,
   "metadata": {},
   "outputs": [
    {
     "data": {
      "text/plain": [
       "Group Number              int64\n",
       "Tee Time         datetime64[ns]\n",
       "Player Name_x            object\n",
       "POS                      object\n",
       "Official Rank             int64\n",
       "dtype: object"
      ]
     },
     "execution_count": 14,
     "metadata": {},
     "output_type": "execute_result"
    }
   ],
   "source": [
    "df_times_rank.dtypes"
   ]
  },
  {
   "cell_type": "code",
   "execution_count": 15,
   "metadata": {},
   "outputs": [],
   "source": [
    "# Group by the key and calculate the difference between rows\n",
    "df_times_rank['Difference'] = df_times_rank.groupby('Group Number')['Official Rank'].diff().fillna(0)"
   ]
  },
  {
   "cell_type": "code",
   "execution_count": 16,
   "metadata": {},
   "outputs": [
    {
     "name": "stdout",
     "output_type": "stream",
     "text": [
      "original row count: 73\n"
     ]
    }
   ],
   "source": [
    "print(f'original row count: {df_times_rank.shape[0]}')"
   ]
  },
  {
   "cell_type": "code",
   "execution_count": 17,
   "metadata": {},
   "outputs": [],
   "source": [
    "# Remove duplicates from upcoming tee times\n",
    "df_times_rank.drop_duplicates(inplace=True)"
   ]
  },
  {
   "cell_type": "code",
   "execution_count": 18,
   "metadata": {},
   "outputs": [
    {
     "name": "stdout",
     "output_type": "stream",
     "text": [
      "original row count: 73\n"
     ]
    }
   ],
   "source": [
    "print(f'original row count: {df_times_rank.shape[0]}')\n"
   ]
  },
  {
   "cell_type": "code",
   "execution_count": 19,
   "metadata": {},
   "outputs": [
    {
     "data": {
      "text/html": [
       "<div>\n",
       "<style scoped>\n",
       "    .dataframe tbody tr th:only-of-type {\n",
       "        vertical-align: middle;\n",
       "    }\n",
       "\n",
       "    .dataframe tbody tr th {\n",
       "        vertical-align: top;\n",
       "    }\n",
       "\n",
       "    .dataframe thead th {\n",
       "        text-align: right;\n",
       "    }\n",
       "</style>\n",
       "<table border=\"1\" class=\"dataframe\">\n",
       "  <thead>\n",
       "    <tr style=\"text-align: right;\">\n",
       "      <th></th>\n",
       "      <th>Group Number</th>\n",
       "      <th>Tee Time</th>\n",
       "      <th>Player Name_x</th>\n",
       "      <th>POS</th>\n",
       "      <th>Official Rank</th>\n",
       "      <th>Difference</th>\n",
       "    </tr>\n",
       "  </thead>\n",
       "  <tbody>\n",
       "    <tr>\n",
       "      <th>28</th>\n",
       "      <td>14</td>\n",
       "      <td>2025-03-06 14:55:00</td>\n",
       "      <td>Viktor Hovland</td>\n",
       "      <td>-</td>\n",
       "      <td>121</td>\n",
       "      <td>118.0</td>\n",
       "    </tr>\n",
       "    <tr>\n",
       "      <th>38</th>\n",
       "      <td>19</td>\n",
       "      <td>2025-03-06 15:50:00</td>\n",
       "      <td>Jackson Koivun</td>\n",
       "      <td>-</td>\n",
       "      <td>1000</td>\n",
       "      <td>947.0</td>\n",
       "    </tr>\n",
       "    <tr>\n",
       "      <th>40</th>\n",
       "      <td>20</td>\n",
       "      <td>2025-03-06 16:00:00</td>\n",
       "      <td>Mackenzie Hughes</td>\n",
       "      <td>-</td>\n",
       "      <td>127</td>\n",
       "      <td>120.0</td>\n",
       "    </tr>\n",
       "    <tr>\n",
       "      <th>72</th>\n",
       "      <td>36</td>\n",
       "      <td>2025-03-06 18:50:00</td>\n",
       "      <td>Rafael Campos</td>\n",
       "      <td>-</td>\n",
       "      <td>151</td>\n",
       "      <td>142.0</td>\n",
       "    </tr>\n",
       "  </tbody>\n",
       "</table>\n",
       "</div>"
      ],
      "text/plain": [
       "    Group Number            Tee Time     Player Name_x POS  Official Rank  \\\n",
       "28            14 2025-03-06 14:55:00    Viktor Hovland   -            121   \n",
       "38            19 2025-03-06 15:50:00    Jackson Koivun   -           1000   \n",
       "40            20 2025-03-06 16:00:00  Mackenzie Hughes   -            127   \n",
       "72            36 2025-03-06 18:50:00     Rafael Campos   -            151   \n",
       "\n",
       "    Difference  \n",
       "28       118.0  \n",
       "38       947.0  \n",
       "40       120.0  \n",
       "72       142.0  "
      ]
     },
     "execution_count": 19,
     "metadata": {},
     "output_type": "execute_result"
    }
   ],
   "source": [
    "df_best_groups = df_times_rank[df_times_rank['Difference']>100]\n",
    "df_best_groups.head()"
   ]
  },
  {
   "cell_type": "code",
   "execution_count": 20,
   "metadata": {},
   "outputs": [
    {
     "data": {
      "text/html": [
       "<div>\n",
       "<style scoped>\n",
       "    .dataframe tbody tr th:only-of-type {\n",
       "        vertical-align: middle;\n",
       "    }\n",
       "\n",
       "    .dataframe tbody tr th {\n",
       "        vertical-align: top;\n",
       "    }\n",
       "\n",
       "    .dataframe thead th {\n",
       "        text-align: right;\n",
       "    }\n",
       "</style>\n",
       "<table border=\"1\" class=\"dataframe\">\n",
       "  <thead>\n",
       "    <tr style=\"text-align: right;\">\n",
       "      <th></th>\n",
       "      <th>Group Number</th>\n",
       "      <th>Tee Time</th>\n",
       "      <th>Player Name_x</th>\n",
       "      <th>POS</th>\n",
       "      <th>Official Rank</th>\n",
       "      <th>Difference</th>\n",
       "    </tr>\n",
       "  </thead>\n",
       "  <tbody>\n",
       "    <tr>\n",
       "      <th>27</th>\n",
       "      <td>14</td>\n",
       "      <td>2025-03-06 14:55:00</td>\n",
       "      <td>Hideki Matsuyama</td>\n",
       "      <td>-</td>\n",
       "      <td>3</td>\n",
       "      <td>0.0</td>\n",
       "    </tr>\n",
       "    <tr>\n",
       "      <th>28</th>\n",
       "      <td>14</td>\n",
       "      <td>2025-03-06 14:55:00</td>\n",
       "      <td>Viktor Hovland</td>\n",
       "      <td>-</td>\n",
       "      <td>121</td>\n",
       "      <td>118.0</td>\n",
       "    </tr>\n",
       "    <tr>\n",
       "      <th>37</th>\n",
       "      <td>19</td>\n",
       "      <td>2025-03-06 15:50:00</td>\n",
       "      <td>Isaiah Salinda</td>\n",
       "      <td>-</td>\n",
       "      <td>53</td>\n",
       "      <td>0.0</td>\n",
       "    </tr>\n",
       "    <tr>\n",
       "      <th>38</th>\n",
       "      <td>19</td>\n",
       "      <td>2025-03-06 15:50:00</td>\n",
       "      <td>Jackson Koivun</td>\n",
       "      <td>-</td>\n",
       "      <td>1000</td>\n",
       "      <td>947.0</td>\n",
       "    </tr>\n",
       "    <tr>\n",
       "      <th>39</th>\n",
       "      <td>20</td>\n",
       "      <td>2025-03-06 16:00:00</td>\n",
       "      <td>Maverick McNealy</td>\n",
       "      <td>-</td>\n",
       "      <td>7</td>\n",
       "      <td>0.0</td>\n",
       "    </tr>\n",
       "    <tr>\n",
       "      <th>40</th>\n",
       "      <td>20</td>\n",
       "      <td>2025-03-06 16:00:00</td>\n",
       "      <td>Mackenzie Hughes</td>\n",
       "      <td>-</td>\n",
       "      <td>127</td>\n",
       "      <td>120.0</td>\n",
       "    </tr>\n",
       "    <tr>\n",
       "      <th>71</th>\n",
       "      <td>36</td>\n",
       "      <td>2025-03-06 18:50:00</td>\n",
       "      <td>Harris English</td>\n",
       "      <td>-</td>\n",
       "      <td>9</td>\n",
       "      <td>0.0</td>\n",
       "    </tr>\n",
       "    <tr>\n",
       "      <th>72</th>\n",
       "      <td>36</td>\n",
       "      <td>2025-03-06 18:50:00</td>\n",
       "      <td>Rafael Campos</td>\n",
       "      <td>-</td>\n",
       "      <td>151</td>\n",
       "      <td>142.0</td>\n",
       "    </tr>\n",
       "  </tbody>\n",
       "</table>\n",
       "</div>"
      ],
      "text/plain": [
       "    Group Number            Tee Time     Player Name_x POS  Official Rank  \\\n",
       "27            14 2025-03-06 14:55:00  Hideki Matsuyama   -              3   \n",
       "28            14 2025-03-06 14:55:00    Viktor Hovland   -            121   \n",
       "37            19 2025-03-06 15:50:00    Isaiah Salinda   -             53   \n",
       "38            19 2025-03-06 15:50:00    Jackson Koivun   -           1000   \n",
       "39            20 2025-03-06 16:00:00  Maverick McNealy   -              7   \n",
       "40            20 2025-03-06 16:00:00  Mackenzie Hughes   -            127   \n",
       "71            36 2025-03-06 18:50:00    Harris English   -              9   \n",
       "72            36 2025-03-06 18:50:00     Rafael Campos   -            151   \n",
       "\n",
       "    Difference  \n",
       "27         0.0  \n",
       "28       118.0  \n",
       "37         0.0  \n",
       "38       947.0  \n",
       "39         0.0  \n",
       "40       120.0  \n",
       "71         0.0  \n",
       "72       142.0  "
      ]
     },
     "execution_count": 20,
     "metadata": {},
     "output_type": "execute_result"
    }
   ],
   "source": [
    "# Filter rows in df_other based on Group Numbers in df_best_groups\n",
    "df_bet = df_times_rank[df_times_rank['Group Number'].isin(df_best_groups['Group Number'])]\n",
    "\n",
    "df_bet.head(25)\n"
   ]
  },
  {
   "cell_type": "code",
   "execution_count": 21,
   "metadata": {},
   "outputs": [
    {
     "data": {
      "text/html": [
       "<div>\n",
       "<style scoped>\n",
       "    .dataframe tbody tr th:only-of-type {\n",
       "        vertical-align: middle;\n",
       "    }\n",
       "\n",
       "    .dataframe tbody tr th {\n",
       "        vertical-align: top;\n",
       "    }\n",
       "\n",
       "    .dataframe thead th {\n",
       "        text-align: right;\n",
       "    }\n",
       "</style>\n",
       "<table border=\"1\" class=\"dataframe\">\n",
       "  <thead>\n",
       "    <tr style=\"text-align: right;\">\n",
       "      <th></th>\n",
       "      <th>Group Number</th>\n",
       "      <th>Tee Time</th>\n",
       "      <th>Player Name_x</th>\n",
       "      <th>POS</th>\n",
       "      <th>Official Rank</th>\n",
       "      <th>Difference</th>\n",
       "    </tr>\n",
       "  </thead>\n",
       "  <tbody>\n",
       "    <tr>\n",
       "      <th>27</th>\n",
       "      <td>14</td>\n",
       "      <td>2025-03-06 14:55:00</td>\n",
       "      <td>Hideki Matsuyama</td>\n",
       "      <td>-</td>\n",
       "      <td>3</td>\n",
       "      <td>0.0</td>\n",
       "    </tr>\n",
       "    <tr>\n",
       "      <th>37</th>\n",
       "      <td>19</td>\n",
       "      <td>2025-03-06 15:50:00</td>\n",
       "      <td>Isaiah Salinda</td>\n",
       "      <td>-</td>\n",
       "      <td>53</td>\n",
       "      <td>0.0</td>\n",
       "    </tr>\n",
       "    <tr>\n",
       "      <th>39</th>\n",
       "      <td>20</td>\n",
       "      <td>2025-03-06 16:00:00</td>\n",
       "      <td>Maverick McNealy</td>\n",
       "      <td>-</td>\n",
       "      <td>7</td>\n",
       "      <td>0.0</td>\n",
       "    </tr>\n",
       "    <tr>\n",
       "      <th>71</th>\n",
       "      <td>36</td>\n",
       "      <td>2025-03-06 18:50:00</td>\n",
       "      <td>Harris English</td>\n",
       "      <td>-</td>\n",
       "      <td>9</td>\n",
       "      <td>0.0</td>\n",
       "    </tr>\n",
       "  </tbody>\n",
       "</table>\n",
       "</div>"
      ],
      "text/plain": [
       "    Group Number            Tee Time     Player Name_x POS  Official Rank  \\\n",
       "27            14 2025-03-06 14:55:00  Hideki Matsuyama   -              3   \n",
       "37            19 2025-03-06 15:50:00    Isaiah Salinda   -             53   \n",
       "39            20 2025-03-06 16:00:00  Maverick McNealy   -              7   \n",
       "71            36 2025-03-06 18:50:00    Harris English   -              9   \n",
       "\n",
       "    Difference  \n",
       "27         0.0  \n",
       "37         0.0  \n",
       "39         0.0  \n",
       "71         0.0  "
      ]
     },
     "execution_count": 21,
     "metadata": {},
     "output_type": "execute_result"
    }
   ],
   "source": [
    "df_bet[df_bet['Difference'] == 0]"
   ]
  },
  {
   "cell_type": "code",
   "execution_count": 25,
   "metadata": {},
   "outputs": [
    {
     "ename": "ModuleNotFoundError",
     "evalue": "No module named 'tabulate'",
     "output_type": "error",
     "traceback": [
      "\u001b[1;31m---------------------------------------------------------------------------\u001b[0m",
      "\u001b[1;31mModuleNotFoundError\u001b[0m                       Traceback (most recent call last)",
      "Cell \u001b[1;32mIn[25], line 1\u001b[0m\n\u001b[1;32m----> 1\u001b[0m \u001b[38;5;28;01mfrom\u001b[39;00m \u001b[38;5;21;01mtabulate\u001b[39;00m \u001b[38;5;28;01mimport\u001b[39;00m tabulate\n",
      "\u001b[1;31mModuleNotFoundError\u001b[0m: No module named 'tabulate'"
     ]
    }
   ],
   "source": [
    "from tabulate import tabulate"
   ]
  }
 ],
 "metadata": {
  "kernelspec": {
   "display_name": ".venv",
   "language": "python",
   "name": "python3"
  },
  "language_info": {
   "codemirror_mode": {
    "name": "ipython",
    "version": 3
   },
   "file_extension": ".py",
   "mimetype": "text/x-python",
   "name": "python",
   "nbconvert_exporter": "python",
   "pygments_lexer": "ipython3",
   "version": "3.11.5"
  }
 },
 "nbformat": 4,
 "nbformat_minor": 2
}
