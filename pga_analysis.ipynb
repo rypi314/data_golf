{
 "cells": [
  {
   "cell_type": "code",
   "execution_count": 1,
   "metadata": {},
   "outputs": [
    {
     "name": "stdout",
     "output_type": "stream",
     "text": [
      "   Group Number            Tee Time  Start Tee  Group Location  Group Hole  \\\n",
      "0             1 2025-02-27 11:45:00          1  Round Complete          18   \n",
      "1             1 2025-02-27 11:45:00          1  Round Complete          18   \n",
      "2             1 2025-02-27 11:45:00          1  Round Complete          18   \n",
      "3            13 2025-02-27 11:45:00         10  Round Complete           9   \n",
      "4            13 2025-02-27 11:45:00         10  Round Complete           9   \n",
      "5            13 2025-02-27 11:45:00         10  Round Complete           9   \n",
      "6             2 2025-02-27 11:56:00          1  Round Complete          18   \n",
      "7             2 2025-02-27 11:56:00          1  Round Complete          18   \n",
      "8             2 2025-02-27 11:56:00          1  Round Complete          18   \n",
      "9            14 2025-02-27 11:56:00         10  Round Complete           9   \n",
      "\n",
      "                                 Course Name Group Status        Player Name  \\\n",
      "0  PGA National Resort (The Champion Course)     COMPLETE    Patrick Rodgers   \n",
      "1  PGA National Resort (The Champion Course)     COMPLETE          Rico Hoey   \n",
      "2  PGA National Resort (The Champion Course)     COMPLETE       Mac Meissner   \n",
      "3  PGA National Resort (The Champion Course)     COMPLETE     Denny McCarthy   \n",
      "4  PGA National Resort (The Champion Course)     COMPLETE          Sam Ryder   \n",
      "5  PGA National Resort (The Champion Course)     COMPLETE   Patrick Fishburn   \n",
      "6  PGA National Resort (The Champion Course)     COMPLETE       Beau Hossler   \n",
      "7  PGA National Resort (The Champion Course)     COMPLETE  Taylor Montgomery   \n",
      "8  PGA National Resort (The Champion Course)     COMPLETE      Ryo Hisatsune   \n",
      "9  PGA National Resort (The Champion Course)     COMPLETE        Michael Kim   \n",
      "\n",
      "  Country  \n",
      "0     USA  \n",
      "1     PHI  \n",
      "2     USA  \n",
      "3     USA  \n",
      "4     USA  \n",
      "5     USA  \n",
      "6     USA  \n",
      "7     USA  \n",
      "8     JPN  \n",
      "9     USA  \n"
     ]
    }
   ],
   "source": [
    "%run load_pga_tee_time.py"
   ]
  },
  {
   "cell_type": "code",
   "execution_count": null,
   "metadata": {},
   "outputs": [],
   "source": [
    "%run load_pga_tournament.py"
   ]
  }
 ],
 "metadata": {
  "kernelspec": {
   "display_name": ".venv",
   "language": "python",
   "name": "python3"
  },
  "language_info": {
   "codemirror_mode": {
    "name": "ipython",
    "version": 3
   },
   "file_extension": ".py",
   "mimetype": "text/x-python",
   "name": "python",
   "nbconvert_exporter": "python",
   "pygments_lexer": "ipython3",
   "version": "3.11.5"
  }
 },
 "nbformat": 4,
 "nbformat_minor": 2
}
